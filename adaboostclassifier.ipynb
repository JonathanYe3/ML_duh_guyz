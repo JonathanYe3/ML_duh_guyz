{
 "cells": [
  {
   "cell_type": "markdown",
   "metadata": {},
   "source": [
    "# Adaboost classifier"
   ]
  },
  {
   "cell_type": "code",
   "execution_count": 69,
   "metadata": {},
   "outputs": [],
   "source": [
    "# Import guys\n",
    "import pandas as pd\n",
    "import numpy as np\n",
    "# from AdaBoostClassifier import AdaBoostClassifier\n",
    "%run AdaBoostClassifier.py\n",
    "from sklearn.model_selection import train_test_split\n",
    "\n"
   ]
  },
  {
   "cell_type": "code",
   "execution_count": 73,
   "metadata": {},
   "outputs": [],
   "source": [
    "# Data\n",
    "dat = pd.read_csv('data/cleanData.csv')"
   ]
  },
  {
   "cell_type": "code",
   "execution_count": 74,
   "metadata": {},
   "outputs": [
    {
     "name": "stdout",
     "output_type": "stream",
     "text": [
      "0      0\n",
      "1      0\n",
      "2      1\n",
      "3      0\n",
      "4      0\n",
      "      ..\n",
      "315    0\n",
      "316    0\n",
      "317    0\n",
      "318    0\n",
      "319    1\n",
      "Name: Category, Length: 320, dtype: int64\n"
     ]
    }
   ],
   "source": [
    "labels = dat[\"Category\"]\n",
    "dat.drop(['Category', 'cleaned_msg', 'nondupe'], inplace=True, axis = 1)\n",
    "columns = dat.columns\n",
    "dat = dat.to_numpy()\n",
    "print(labels)"
   ]
  },
  {
   "cell_type": "markdown",
   "metadata": {},
   "source": [
    "### Train/test"
   ]
  },
  {
   "cell_type": "code",
   "execution_count": 76,
   "metadata": {},
   "outputs": [
    {
     "name": "stdout",
     "output_type": "stream",
     "text": [
      "(256, 47994)\n",
      "(256,)\n",
      "(64, 47994)\n",
      "(64,)\n",
      "int64\n",
      "proportion of spam in training data: 0.1484375\n",
      "proportion of spam in testing data: 0.15625\n"
     ]
    }
   ],
   "source": [
    "n_samples = len(labels)\n",
    "# Use train_test_split.\n",
    "X_train, X_test, y_train, y_test = train_test_split(dat, labels, test_size=0.2, shuffle=False)\n",
    "\n",
    "print(X_train.shape)\n",
    "print(y_train.shape)\n",
    "print(X_test.shape)\n",
    "print(y_test.shape)\n",
    "print(y_train.dtype)\n",
    "print(\"proportion of spam in training data:\", (y_train == 1).sum().item() / len(y_train))\n",
    "print(\"proportion of spam in testing data:\", (y_test == 1).sum().item() / len(y_test))"
   ]
  },
  {
   "cell_type": "markdown",
   "metadata": {},
   "source": [
    "Training"
   ]
  },
  {
   "cell_type": "code",
   "execution_count": 77,
   "metadata": {},
   "outputs": [],
   "source": [
    "aboost = AdaBoostClassifier(n_estimators = 100, lr = 0.001, type2penalty = False)\n",
    "aboost.fit(X = X_train, y = y_train)\n"
   ]
  },
  {
   "cell_type": "code",
   "execution_count": 78,
   "metadata": {},
   "outputs": [
    {
     "name": "stdout",
     "output_type": "stream",
     "text": [
      "Accuracy:  0.953125\n",
      "[0. 1.]\n"
     ]
    }
   ],
   "source": [
    "predictions = aboost.predict(X_test)\n",
    "correct = (predictions == y_test).sum().item()\n",
    "print(\"Accuracy: \", correct/len(predictions))\n",
    "print(np.unique(predictions))"
   ]
  },
  {
   "cell_type": "code",
   "execution_count": 83,
   "metadata": {},
   "outputs": [
    {
     "name": "stdout",
     "output_type": "stream",
     "text": [
      "[1. 1. 1.]\n"
     ]
    }
   ],
   "source": [
    "X = np.array([[1, 2], [3, 4], [5, 6]])\n",
    "y = np.ones(3)\n",
    "\n",
    "clf = AdaBoostClassifier(n_estimators=10, lr=0.01)\n",
    "clf.fit(X, y)\n",
    "\n",
    "predictions = clf.predict(X)\n",
    "print(predictions)"
   ]
  }
 ],
 "metadata": {
  "kernelspec": {
   "display_name": "Python 3",
   "language": "python",
   "name": "python3"
  },
  "language_info": {
   "codemirror_mode": {
    "name": "ipython",
    "version": 3
   },
   "file_extension": ".py",
   "mimetype": "text/x-python",
   "name": "python",
   "nbconvert_exporter": "python",
   "pygments_lexer": "ipython3",
   "version": "3.10.4"
  }
 },
 "nbformat": 4,
 "nbformat_minor": 2
}
