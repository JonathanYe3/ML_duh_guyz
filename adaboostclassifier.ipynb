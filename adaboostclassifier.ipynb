{
 "cells": [
  {
   "cell_type": "markdown",
   "metadata": {},
   "source": [
    "# Adaboost classifier"
   ]
  },
  {
   "cell_type": "code",
   "execution_count": 1,
   "metadata": {},
   "outputs": [],
   "source": [
    "# Import guys\n",
    "import pandas as pd\n",
    "import numpy as np\n",
    "from scipy import sparse\n",
    "# from AdaBoostClassifier import AdaBoostClassifier\n",
    "%run AdaBoostClassifier.py\n",
    "from sklearn.model_selection import train_test_split\n",
    "\n"
   ]
  },
  {
   "cell_type": "markdown",
   "metadata": {},
   "source": [
    "### Import data\n",
    "We should leverage the sparse matrix format.\n",
    "\n",
    "https://towardsdatascience.com/working-with-sparse-data-sets-in-pandas-and-sklearn-d26c1cfbe067\n",
    "\n",
    "This shit is incredible"
   ]
  },
  {
   "cell_type": "code",
   "execution_count": 18,
   "metadata": {},
   "outputs": [
    {
     "name": "stdout",
     "output_type": "stream",
     "text": [
      "320\n",
      "0      0\n",
      "1      0\n",
      "2      1\n",
      "3      0\n",
      "4      0\n",
      "      ..\n",
      "315    0\n",
      "316    0\n",
      "317    0\n",
      "318    0\n",
      "319    1\n",
      "Name: Category, Length: 320, dtype: int64\n"
     ]
    }
   ],
   "source": [
    "# Data\n",
    "dat = pd.read_csv('data/cleanData.csv')\n",
    "labels = dat[\"Category\"]\n",
    "dat.drop(['Category', 'cleaned_msg', 'nondupe'], inplace=True, axis = 1)\n",
    "columns = dat.columns\n",
    "dat = dat.to_numpy()\n",
    "print(labels)"
   ]
  },
  {
   "cell_type": "markdown",
   "metadata": {},
   "source": [
    "New method"
   ]
  },
  {
   "cell_type": "code",
   "execution_count": 20,
   "metadata": {},
   "outputs": [],
   "source": [
    "# column names\n",
    "with open('data/column_names.txt', 'r') as f:\n",
    "    column_names = [line.strip() for line in f]\n",
    "\n",
    "sparse_dat = sparse.load_npz(\"data/sparse_df.npz\")"
   ]
  },
  {
   "cell_type": "code",
   "execution_count": 21,
   "metadata": {},
   "outputs": [
    {
     "name": "stdout",
     "output_type": "stream",
     "text": [
      "labels: \n",
      "  (2, 0)\t1\n",
      "  (5, 0)\t1\n",
      "  (8, 0)\t1\n",
      "  (9, 0)\t1\n",
      "  (11, 0)\t1\n",
      "  (12, 0)\t1\n",
      "  (15, 0)\t1\n",
      "  (19, 0)\t1\n",
      "  (34, 0)\t1\n",
      "  (42, 0)\t1\n",
      "  (54, 0)\t1\n",
      "  (56, 0)\t1\n",
      "  (65, 0)\t1\n",
      "  (67, 0)\t1\n",
      "  (68, 0)\t1\n",
      "  (93, 0)\t1\n",
      "  (95, 0)\t1\n",
      "  (114, 0)\t1\n",
      "  (117, 0)\t1\n",
      "  (120, 0)\t1\n",
      "  (121, 0)\t1\n",
      "  (123, 0)\t1\n",
      "  (134, 0)\t1\n",
      "  (135, 0)\t1\n",
      "  (139, 0)\t1\n",
      "  :\t:\n",
      "  (15952, 0)\t1\n",
      "  (15953, 0)\t1\n",
      "  (15954, 0)\t1\n",
      "  (15955, 0)\t1\n",
      "  (15956, 0)\t1\n",
      "  (15957, 0)\t1\n",
      "  (15958, 0)\t1\n",
      "  (15959, 0)\t1\n",
      "  (15960, 0)\t1\n",
      "  (15961, 0)\t1\n",
      "  (15962, 0)\t1\n",
      "  (15963, 0)\t1\n",
      "  (15964, 0)\t1\n",
      "  (15965, 0)\t1\n",
      "  (15966, 0)\t1\n",
      "  (15967, 0)\t1\n",
      "  (15968, 0)\t1\n",
      "  (15969, 0)\t1\n",
      "  (15970, 0)\t1\n",
      "  (15971, 0)\t1\n",
      "  (15972, 0)\t1\n",
      "  (15973, 0)\t1\n",
      "  (15974, 0)\t1\n",
      "  (15975, 0)\t1\n",
      "  (15976, 0)\t1\n"
     ]
    }
   ],
   "source": [
    "# Extract labels from the first column\n",
    "labels = sparse_dat[:, 0]\n",
    "\n",
    "# Create a list of column indices to keep\n",
    "to_keep = list(set(range(sparse_dat.shape[1])) - set([0]))\n",
    "\n",
    "# Extract the design matrix\n",
    "X = sparse_dat[:, to_keep]\n",
    "\n",
    "print(f'labels: \\n{labels}')"
   ]
  },
  {
   "cell_type": "code",
   "execution_count": 22,
   "metadata": {},
   "outputs": [
    {
     "name": "stdout",
     "output_type": "stream",
     "text": [
      "Design matrix: \n",
      "  (17173, 0)\t1\n",
      "  (17240, 0)\t2\n",
      "  (17164, 1)\t1\n",
      "  (17363, 1)\t1\n",
      "  (17448, 1)\t1\n",
      "  (17910, 1)\t1\n",
      "  (17914, 1)\t1\n",
      "  (17933, 1)\t2\n",
      "  (15801, 2)\t1\n",
      "  (15867, 2)\t1\n",
      "  (16217, 2)\t1\n",
      "  (17173, 2)\t3\n",
      "  (17189, 2)\t1\n",
      "  (17386, 2)\t1\n",
      "  (17765, 2)\t4\n",
      "  (17933, 3)\t2\n",
      "  (17325, 4)\t1\n",
      "  (17366, 4)\t1\n",
      "  (16271, 5)\t1\n",
      "  (16837, 5)\t1\n",
      "  (17933, 6)\t2\n",
      "  (17933, 7)\t2\n",
      "  (17173, 8)\t2\n",
      "  (17933, 8)\t1\n",
      "  (15801, 9)\t1\n",
      "  :\t:\n",
      "  (8386, 56199)\t2\n",
      "  (8669, 56200)\t1\n",
      "  (10316, 56200)\t1\n",
      "  (8805, 56201)\t1\n",
      "  (9218, 56201)\t1\n",
      "  (9565, 56202)\t1\n",
      "  (9814, 56202)\t1\n",
      "  (6232, 56203)\t1\n",
      "  (9353, 56203)\t1\n",
      "  (5661, 56204)\t9\n",
      "  (6860, 56204)\t1\n",
      "  (8698, 56204)\t1\n",
      "  (125, 56205)\t1\n",
      "  (1228, 56205)\t1\n",
      "  (4422, 56205)\t1\n",
      "  (5648, 56206)\t1\n",
      "  (7464, 56206)\t1\n",
      "  (5648, 56207)\t2\n",
      "  (6025, 56208)\t2\n",
      "  (6025, 56209)\t2\n",
      "  (6151, 56210)\t2\n",
      "  (8669, 56211)\t1\n",
      "  (10316, 56211)\t1\n",
      "  (6340, 56212)\t1\n",
      "  (8696, 56212)\t1\n"
     ]
    }
   ],
   "source": [
    "print(f'Design matrix: \\n{X}')"
   ]
  },
  {
   "cell_type": "markdown",
   "metadata": {},
   "source": [
    "# Issue: \n",
    "Why the hell are these numbers so large. Something something is up with the compressed numbers thing.\n",
    "Edit: Nick is a God. Something was up with the dataframe copy. He fixed it. Jonathan likes men."
   ]
  },
  {
   "cell_type": "markdown",
   "metadata": {},
   "source": [
    "### Train/test"
   ]
  },
  {
   "cell_type": "code",
   "execution_count": 25,
   "metadata": {},
   "outputs": [
    {
     "name": "stdout",
     "output_type": "stream",
     "text": [
      "(14524, 56214)\n",
      "(14524, 1)\n",
      "(3632, 56214)\n",
      "(3632, 1)\n",
      "int64\n",
      "proportion of spam in training data: 0.39568989259157256\n",
      "proportion of spam in testing data: 0.11921806167400881\n"
     ]
    }
   ],
   "source": [
    "n_samples = labels.shape[0]\n",
    "# Use train_test_split.\n",
    "X_train, X_test, y_train, y_test = train_test_split(sparse_dat, labels, test_size=0.2, shuffle=False)\n",
    "\n",
    "print(X_train.shape)\n",
    "print(y_train.shape)\n",
    "print(X_test.shape)\n",
    "print(y_test.shape)\n",
    "print(y_train.dtype)\n",
    "print(\"proportion of spam in training data:\", (y_train == 1).sum().item() / y_train.shape[0])\n",
    "print(\"proportion of spam in testing data:\", (y_test == 1).sum().item() / y_test.shape[0])"
   ]
  },
  {
   "cell_type": "markdown",
   "metadata": {},
   "source": [
    "# Model Training + Test Set Evaluation"
   ]
  },
  {
   "cell_type": "code",
   "execution_count": 26,
   "metadata": {},
   "outputs": [],
   "source": [
    "def errors(y, y_pred):\n",
    "        \"\"\"\n",
    "        Calculate the proportion of type 2 errors - when the true label is 1 - spam, and the predicted label is 0 - ham\n",
    "\n",
    "        Args:\n",
    "        y: true labels\n",
    "        y_pred: predicted labels\n",
    "        \"\"\"\n",
    "        n = len(y)\n",
    "        type2errors = ((y == 1) & (y_pred == 0)).sum().item()\n",
    "        type1errors = ((y == 0) & (y_pred == 1)).sum().item()\n",
    "        correct = (y_pred == y).sum().item()\n",
    "        return type2errors, type1errors, correct"
   ]
  },
  {
   "cell_type": "code",
   "execution_count": 28,
   "metadata": {},
   "outputs": [
    {
     "name": "stderr",
     "output_type": "stream",
     "text": [
      "/Users/nickgeissler/anaconda3/lib/python3.11/site-packages/sklearn/ensemble/_bagging.py:782: DataConversionWarning: A column-vector y was passed when a 1d array was expected. Please change the shape of y to (n_samples, ), for example using ravel().\n",
      "  y = column_or_1d(y, warn=True)\n"
     ]
    },
    {
     "ename": "IndexError",
     "evalue": "too many indices for array: array is 1-dimensional, but 2 were indexed",
     "output_type": "error",
     "traceback": [
      "\u001b[0;31m---------------------------------------------------------------------------\u001b[0m",
      "\u001b[0;31mIndexError\u001b[0m                                Traceback (most recent call last)",
      "\u001b[1;32m/Users/nickgeissler/ML Group Project/ML_duh_guyz/adaboostclassifier.ipynb Cell 14\u001b[0m line \u001b[0;36m2\n\u001b[1;32m      <a href='vscode-notebook-cell:/Users/nickgeissler/ML%20Group%20Project/ML_duh_guyz/adaboostclassifier.ipynb#X16sZmlsZQ%3D%3D?line=0'>1</a>\u001b[0m aboost1 \u001b[39m=\u001b[39m AdaBoostClassifier(n_estimators \u001b[39m=\u001b[39m \u001b[39m50\u001b[39m, lr \u001b[39m=\u001b[39m \u001b[39m0.01\u001b[39m, type2penalty \u001b[39m=\u001b[39m \u001b[39mFalse\u001b[39;00m, max_DT_depth \u001b[39m=\u001b[39m \u001b[39mNone\u001b[39;00m)\n\u001b[0;32m----> <a href='vscode-notebook-cell:/Users/nickgeissler/ML%20Group%20Project/ML_duh_guyz/adaboostclassifier.ipynb#X16sZmlsZQ%3D%3D?line=1'>2</a>\u001b[0m aboost1\u001b[39m.\u001b[39mfit(X \u001b[39m=\u001b[39m X_train, y \u001b[39m=\u001b[39m y_train\u001b[39m.\u001b[39mtoarray())\n\u001b[1;32m      <a href='vscode-notebook-cell:/Users/nickgeissler/ML%20Group%20Project/ML_duh_guyz/adaboostclassifier.ipynb#X16sZmlsZQ%3D%3D?line=3'>4</a>\u001b[0m predictions \u001b[39m=\u001b[39m aboost1\u001b[39m.\u001b[39mpredict(X_test)\n\u001b[1;32m      <a href='vscode-notebook-cell:/Users/nickgeissler/ML%20Group%20Project/ML_duh_guyz/adaboostclassifier.ipynb#X16sZmlsZQ%3D%3D?line=4'>5</a>\u001b[0m type2, type1, correct \u001b[39m=\u001b[39m errors(y_test, predictions)\n",
      "File \u001b[0;32m~/ML Group Project/ML_duh_guyz/AdaBoostClassifier.py:58\u001b[0m, in \u001b[0;36mAdaBoostClassifier.fit\u001b[0;34m(self, X, y)\u001b[0m\n\u001b[1;32m     54\u001b[0m correct \u001b[39m=\u001b[39m (y \u001b[39m==\u001b[39m y_pred)\n\u001b[1;32m     55\u001b[0m \u001b[39m#print(np.sum(correct))\u001b[39;00m\n\u001b[1;32m     56\u001b[0m \n\u001b[1;32m     57\u001b[0m \u001b[39m# Update weights based on correctness\u001b[39;00m\n\u001b[0;32m---> 58\u001b[0m \u001b[39mself\u001b[39m\u001b[39m.\u001b[39mweights[correct] \u001b[39m*\u001b[39m\u001b[39m=\u001b[39m np\u001b[39m.\u001b[39mexp(\u001b[39m-\u001b[39m\u001b[39mself\u001b[39m\u001b[39m.\u001b[39mlr)  \u001b[39m# Weight down correctly classified\u001b[39;00m\n\u001b[1;32m     59\u001b[0m \u001b[39mself\u001b[39m\u001b[39m.\u001b[39mweights[\u001b[39m~\u001b[39mcorrect] \u001b[39m*\u001b[39m\u001b[39m=\u001b[39m np\u001b[39m.\u001b[39mexp(\u001b[39mself\u001b[39m\u001b[39m.\u001b[39mlr)  \u001b[39m# Weight up incorrectly classified\u001b[39;00m\n\u001b[1;32m     61\u001b[0m \u001b[39mself\u001b[39m\u001b[39m.\u001b[39mweights \u001b[39m/\u001b[39m\u001b[39m=\u001b[39m np\u001b[39m.\u001b[39msum(\u001b[39mself\u001b[39m\u001b[39m.\u001b[39mweights)\n",
      "\u001b[0;31mIndexError\u001b[0m: too many indices for array: array is 1-dimensional, but 2 were indexed"
     ]
    }
   ],
   "source": [
    "aboost1 = AdaBoostClassifier(n_estimators = 50, lr = 0.01, type2penalty = False, max_DT_depth = None)\n",
    "aboost1.fit(X = X_train, y = y_train.toarray())\n",
    "\n",
    "predictions = aboost1.predict(X_test)\n",
    "type2, type1, correct = errors(y_test, predictions)\n",
    "print(\"Accuracy: \", correct/len(predictions))\n",
    "print(f'unique predictions - should be 0 and 1: {np.unique(predictions)}')\n",
    "print(f'type 2 errors: {type2} \\n type 1 errors: {type1}')\n",
    "print(aboost1.weights)"
   ]
  },
  {
   "cell_type": "code",
   "execution_count": null,
   "metadata": {},
   "outputs": [
    {
     "name": "stdout",
     "output_type": "stream",
     "text": [
      "Accuracy:  0.953125\n",
      "unique predictions - should be 0 and 1: [0. 1.]\n",
      "type 2 errors: 3 \n",
      " type 1 errors: 0\n",
      "[0.00385011 0.00385011 0.00385011 0.00385011 0.00385011 0.00451814\n",
      " 0.00385011 0.00385011 0.00385011 0.00408819 0.00385011 0.00385011\n",
      " 0.00385011 0.00385011 0.00385011 0.00408819 0.00385011 0.00385011\n",
      " 0.00385011 0.00392789 0.00385011 0.00385011 0.00385011 0.00385011\n",
      " 0.00385011 0.00385011 0.00385011 0.00385011 0.00385011 0.00385011\n",
      " 0.00385011 0.00385011 0.00385011 0.00385011 0.00392789 0.00392789\n",
      " 0.00385011 0.00385011 0.00385011 0.00385011 0.00385011 0.00385011\n",
      " 0.00385011 0.00385011 0.00385011 0.00385011 0.00385011 0.00385011\n",
      " 0.00385011 0.00385011 0.00385011 0.00385011 0.00385011 0.00385011\n",
      " 0.00434098 0.00385011 0.0054092  0.00385011 0.00385011 0.00385011\n",
      " 0.00385011 0.00385011 0.00385011 0.00385011 0.00385011 0.00408819\n",
      " 0.00385011 0.00385011 0.0051971  0.00385011 0.00385011 0.00385011\n",
      " 0.00385011 0.00385011 0.00385011 0.00392789 0.00385011 0.00385011\n",
      " 0.00385011 0.00385011 0.00385011 0.00385011 0.00385011 0.00385011\n",
      " 0.00385011 0.00385011 0.00385011 0.00385011 0.00385011 0.00385011\n",
      " 0.00385011 0.00385011 0.00385011 0.00385011 0.00385011 0.00460942\n",
      " 0.00385011 0.00385011 0.00385011 0.00385011 0.00385011 0.00385011\n",
      " 0.00385011 0.00385011 0.00385011 0.00385011 0.00385011 0.00385011\n",
      " 0.00385011 0.00385011 0.00385011 0.00385011 0.00385011 0.00385011\n",
      " 0.00385011 0.00385011 0.00385011 0.00385011 0.00385011 0.00385011\n",
      " 0.00417077 0.00417077 0.00385011 0.00400723 0.00385011 0.00385011\n",
      " 0.00385011 0.00385011 0.00385011 0.00385011 0.00385011 0.00385011\n",
      " 0.00385011 0.00385011 0.00392789 0.00530209 0.00385011 0.00385011\n",
      " 0.00385011 0.00417077 0.00385011 0.00385011 0.00385011 0.00385011\n",
      " 0.00385011 0.00385011 0.00385011 0.00400723 0.00385011 0.00385011\n",
      " 0.00385011 0.00385011 0.00385011 0.00392789 0.00385011 0.00385011\n",
      " 0.00385011 0.00385011 0.00385011 0.00434098 0.00385011 0.00385011\n",
      " 0.00385011 0.00385011 0.00434098 0.00400723 0.00385011 0.00385011\n",
      " 0.00385011 0.00385011 0.00385011 0.00385011 0.00385011 0.00385011\n",
      " 0.00385011 0.00385011 0.00385011 0.00385011 0.00385011 0.00417077\n",
      " 0.00434098 0.00385011 0.00385011 0.00385011 0.00385011 0.00385011\n",
      " 0.00385011 0.00385011 0.00385011 0.00385011 0.00385011 0.00451814\n",
      " 0.00385011 0.00385011 0.00385011 0.00392789 0.00385011 0.00385011\n",
      " 0.00385011 0.00442868 0.00385011 0.00385011 0.00460942 0.00385011\n",
      " 0.00385011 0.00385011 0.00385011 0.00385011 0.00385011 0.00385011\n",
      " 0.00385011 0.00385011 0.00385011 0.00385011 0.00385011 0.00385011\n",
      " 0.00385011 0.00385011 0.00385011 0.00385011 0.00385011 0.00385011\n",
      " 0.00385011 0.00385011 0.00385011 0.00385011 0.00385011 0.00385011\n",
      " 0.00385011 0.00385011 0.00385011 0.00385011 0.00385011 0.00385011\n",
      " 0.00385011 0.00425503 0.00385011 0.00385011 0.00385011 0.00385011\n",
      " 0.00489445 0.00392789 0.00385011 0.00385011 0.00385011 0.00385011\n",
      " 0.00385011 0.00385011 0.00385011 0.00385011 0.00392789 0.00385011\n",
      " 0.00385011 0.00385011 0.00385011 0.00385011]\n"
     ]
    }
   ],
   "source": [
    "aboost2 = AdaBoostClassifier(n_estimators = 50, lr = 0.01, type2penalty = True, max_DT_depth = None)\n",
    "aboost2.fit(X = X_train, y = y_train)\n",
    "predictions = aboost2.predict(X_test)\n",
    "type2, type1, correct = errors(y_test, predictions)\n",
    "print(\"Accuracy: \", correct/len(predictions))\n",
    "print(f'unique predictions - should be 0 and 1: {np.unique(predictions)}')\n",
    "print(f'type 2 errors: {type2} \\n type 1 errors: {type1}')\n",
    "print(aboost2.weights)"
   ]
  },
  {
   "cell_type": "markdown",
   "metadata": {},
   "source": [
    "# Training Set Evaluation"
   ]
  },
  {
   "cell_type": "code",
   "execution_count": null,
   "metadata": {},
   "outputs": [
    {
     "name": "stdout",
     "output_type": "stream",
     "text": [
      "Model 1 (no penalty) Training set Accuracy:  0.96484375\n",
      "unique predictions - should be 0 and 1: [0. 1.]\n",
      "type 2 errors: 0 \n",
      " type 1 errors: 9\n"
     ]
    }
   ],
   "source": [
    "predictions = aboost1.predict(X_train)\n",
    "type2, type1, correct = errors(y_train, predictions)\n",
    "print(\"Model 1 (no penalty) Training set Accuracy: \", correct/len(predictions))\n",
    "print(f'unique predictions - should be 0 and 1: {np.unique(predictions)}')\n",
    "print(f'type 2 errors: {type2} \\n type 1 errors: {type1}')"
   ]
  },
  {
   "cell_type": "code",
   "execution_count": null,
   "metadata": {},
   "outputs": [
    {
     "name": "stdout",
     "output_type": "stream",
     "text": [
      "Model 2 (penalty) Training set Accuracy:  0.96484375\n",
      "unique predictions - should be 0 and 1: [0. 1.]\n",
      "type 2 errors: 0 \n",
      " type 1 errors: 9\n"
     ]
    }
   ],
   "source": [
    "predictions = aboost2.predict(X_train)\n",
    "type2, type1, correct = errors(y_train, predictions)\n",
    "print(\"Model 2 (penalty) Training set Accuracy: \", correct/len(predictions))\n",
    "print(f'unique predictions - should be 0 and 1: {np.unique(predictions)}')\n",
    "print(f'type 2 errors: {type2} \\n type 1 errors: {type1}')"
   ]
  },
  {
   "cell_type": "markdown",
   "metadata": {},
   "source": [
    "just for testing"
   ]
  },
  {
   "cell_type": "code",
   "execution_count": null,
   "metadata": {},
   "outputs": [
    {
     "name": "stdout",
     "output_type": "stream",
     "text": [
      "[1. 1. 1.]\n"
     ]
    }
   ],
   "source": [
    "X = np.array([[1, 2], [3, 4], [5, 6]])\n",
    "y = np.ones(3)\n",
    "\n",
    "clf = AdaBoostClassifier(n_estimators=10, lr=0.01)\n",
    "clf.fit(X, y)\n",
    "\n",
    "predictions = clf.predict(X)\n",
    "print(predictions)"
   ]
  }
 ],
 "metadata": {
  "kernelspec": {
   "display_name": "Python 3",
   "language": "python",
   "name": "python3"
  },
  "language_info": {
   "codemirror_mode": {
    "name": "ipython",
    "version": 3
   },
   "file_extension": ".py",
   "mimetype": "text/x-python",
   "name": "python",
   "nbconvert_exporter": "python",
   "pygments_lexer": "ipython3",
   "version": "3.11.4"
  }
 },
 "nbformat": 4,
 "nbformat_minor": 2
}
