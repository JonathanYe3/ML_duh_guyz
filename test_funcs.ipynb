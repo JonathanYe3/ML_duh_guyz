{
 "cells": [
  {
   "cell_type": "code",
   "execution_count": 11,
   "metadata": {},
   "outputs": [
    {
     "name": "stdout",
     "output_type": "stream",
     "text": [
      "[ True False  True  True  True False]\n",
      "[2 0 0 2 0 1]\n"
     ]
    }
   ],
   "source": [
    "import numpy as np\n",
    "def pred_err_vec(y,y_pred):\n",
    "    pred_err_vec = ((y_pred==0) & (y==1))*2\n",
    "    better_err_vec = ((y_pred==1)) & (y==0)\n",
    "    pred_err_vec = pred_err_vec+better_err_vec\n",
    "    return pred_err_vec\n",
    "y = np.array([1,0,1,1,1,0])\n",
    "y_pred = np.array([0,0,1,0,1,1])\n",
    "print(pred_err_vec(y,y_pred))"
   ]
  }
 ],
 "metadata": {
  "kernelspec": {
   "display_name": "base",
   "language": "python",
   "name": "python3"
  },
  "language_info": {
   "codemirror_mode": {
    "name": "ipython",
    "version": 3
   },
   "file_extension": ".py",
   "mimetype": "text/x-python",
   "name": "python",
   "nbconvert_exporter": "python",
   "pygments_lexer": "ipython3",
   "version": "3.11.4"
  }
 },
 "nbformat": 4,
 "nbformat_minor": 2
}
