{
 "cells": [
  {
   "cell_type": "markdown",
   "metadata": {},
   "source": [
    "# Take 2: Adaboost with Weak Classifiers\n",
    "None of that bagging classifier bullshit\n",
    "\n",
    "jonat version"
   ]
  },
  {
   "cell_type": "code",
   "execution_count": 3,
   "metadata": {},
   "outputs": [],
   "source": [
    "# Import guys\n",
    "import pandas as pd\n",
    "import numpy as np\n",
    "from scipy import sparse\n",
    "# from AdaBoostClassifier import AdaBoostClassifier\n",
    "#%run AdaBoostWeak.py\n",
    "from sklearn.model_selection import train_test_split\n",
    "import matplotlib.pyplot as plt\n"
   ]
  },
  {
   "cell_type": "markdown",
   "metadata": {},
   "source": [
    "### Import data"
   ]
  },
  {
   "cell_type": "code",
   "execution_count": 4,
   "metadata": {},
   "outputs": [
    {
     "ename": "UnicodeDecodeError",
     "evalue": "'utf-8' codec can't decode byte 0xf3 in position 5587: invalid continuation byte",
     "output_type": "error",
     "traceback": [
      "\u001b[0;31m---------------------------------------------------------------------------\u001b[0m",
      "\u001b[0;31mUnicodeDecodeError\u001b[0m                        Traceback (most recent call last)",
      "\u001b[1;32m/Users/nickgeissler/ML Group Project/ML_duh_guyz/adaboostweakclassifier_rf.ipynb Cell 4\u001b[0m line \u001b[0;36m3\n\u001b[1;32m      <a href='vscode-notebook-cell:/Users/nickgeissler/ML%20Group%20Project/ML_duh_guyz/adaboostweakclassifier_rf.ipynb#W3sZmlsZQ%3D%3D?line=0'>1</a>\u001b[0m \u001b[39m# column names\u001b[39;00m\n\u001b[1;32m      <a href='vscode-notebook-cell:/Users/nickgeissler/ML%20Group%20Project/ML_duh_guyz/adaboostweakclassifier_rf.ipynb#W3sZmlsZQ%3D%3D?line=1'>2</a>\u001b[0m \u001b[39mwith\u001b[39;00m \u001b[39mopen\u001b[39m(\u001b[39m'\u001b[39m\u001b[39mdata/column_names.txt\u001b[39m\u001b[39m'\u001b[39m, \u001b[39m'\u001b[39m\u001b[39mr\u001b[39m\u001b[39m'\u001b[39m) \u001b[39mas\u001b[39;00m f:\n\u001b[0;32m----> <a href='vscode-notebook-cell:/Users/nickgeissler/ML%20Group%20Project/ML_duh_guyz/adaboostweakclassifier_rf.ipynb#W3sZmlsZQ%3D%3D?line=2'>3</a>\u001b[0m     column_names \u001b[39m=\u001b[39m [line\u001b[39m.\u001b[39mstrip() \u001b[39mfor\u001b[39;00m line \u001b[39min\u001b[39;00m f]\n\u001b[1;32m      <a href='vscode-notebook-cell:/Users/nickgeissler/ML%20Group%20Project/ML_duh_guyz/adaboostweakclassifier_rf.ipynb#W3sZmlsZQ%3D%3D?line=4'>5</a>\u001b[0m sparse_dat \u001b[39m=\u001b[39m sparse\u001b[39m.\u001b[39mload_npz(\u001b[39m\"\u001b[39m\u001b[39mdata/sparse_df.npz\u001b[39m\u001b[39m\"\u001b[39m)\n\u001b[1;32m      <a href='vscode-notebook-cell:/Users/nickgeissler/ML%20Group%20Project/ML_duh_guyz/adaboostweakclassifier_rf.ipynb#W3sZmlsZQ%3D%3D?line=6'>7</a>\u001b[0m \u001b[39m# Extract labels from the first column\u001b[39;00m\n",
      "\u001b[1;32m/Users/nickgeissler/ML Group Project/ML_duh_guyz/adaboostweakclassifier_rf.ipynb Cell 4\u001b[0m line \u001b[0;36m3\n\u001b[1;32m      <a href='vscode-notebook-cell:/Users/nickgeissler/ML%20Group%20Project/ML_duh_guyz/adaboostweakclassifier_rf.ipynb#W3sZmlsZQ%3D%3D?line=0'>1</a>\u001b[0m \u001b[39m# column names\u001b[39;00m\n\u001b[1;32m      <a href='vscode-notebook-cell:/Users/nickgeissler/ML%20Group%20Project/ML_duh_guyz/adaboostweakclassifier_rf.ipynb#W3sZmlsZQ%3D%3D?line=1'>2</a>\u001b[0m \u001b[39mwith\u001b[39;00m \u001b[39mopen\u001b[39m(\u001b[39m'\u001b[39m\u001b[39mdata/column_names.txt\u001b[39m\u001b[39m'\u001b[39m, \u001b[39m'\u001b[39m\u001b[39mr\u001b[39m\u001b[39m'\u001b[39m) \u001b[39mas\u001b[39;00m f:\n\u001b[0;32m----> <a href='vscode-notebook-cell:/Users/nickgeissler/ML%20Group%20Project/ML_duh_guyz/adaboostweakclassifier_rf.ipynb#W3sZmlsZQ%3D%3D?line=2'>3</a>\u001b[0m     column_names \u001b[39m=\u001b[39m [line\u001b[39m.\u001b[39mstrip() \u001b[39mfor\u001b[39;00m line \u001b[39min\u001b[39;00m f]\n\u001b[1;32m      <a href='vscode-notebook-cell:/Users/nickgeissler/ML%20Group%20Project/ML_duh_guyz/adaboostweakclassifier_rf.ipynb#W3sZmlsZQ%3D%3D?line=4'>5</a>\u001b[0m sparse_dat \u001b[39m=\u001b[39m sparse\u001b[39m.\u001b[39mload_npz(\u001b[39m\"\u001b[39m\u001b[39mdata/sparse_df.npz\u001b[39m\u001b[39m\"\u001b[39m)\n\u001b[1;32m      <a href='vscode-notebook-cell:/Users/nickgeissler/ML%20Group%20Project/ML_duh_guyz/adaboostweakclassifier_rf.ipynb#W3sZmlsZQ%3D%3D?line=6'>7</a>\u001b[0m \u001b[39m# Extract labels from the first column\u001b[39;00m\n",
      "File \u001b[0;32m<frozen codecs>:322\u001b[0m, in \u001b[0;36mdecode\u001b[0;34m(self, input, final)\u001b[0m\n",
      "\u001b[0;31mUnicodeDecodeError\u001b[0m: 'utf-8' codec can't decode byte 0xf3 in position 5587: invalid continuation byte"
     ]
    }
   ],
   "source": [
    "# column names\n",
    "with open('data/column_names.txt', 'rb') as f:\n",
    "    column_names = [line.strip() for line in f]\n",
    "\n",
    "sparse_dat = sparse.load_npz(\"data/sparse_df.npz\")\n",
    "\n",
    "# Extract labels from the first column\n",
    "labels = sparse_dat[:, 0]\n",
    "\n",
    "# Create a list of column indices to keep\n",
    "to_keep = list(set(range(sparse_dat.shape[1])) - set([0]))\n",
    "\n",
    "# Extract the design matrix\n",
    "X = sparse_dat[:, to_keep]\n",
    "\n",
    "print(f'labels: \\n{labels}')"
   ]
  },
  {
   "cell_type": "code",
   "execution_count": null,
   "metadata": {},
   "outputs": [
    {
     "name": "stdout",
     "output_type": "stream",
     "text": [
      "Design matrix: \n",
      "  (17173, 0)\t1\n",
      "  (17240, 0)\t2\n",
      "  (17164, 1)\t1\n",
      "  (17363, 1)\t1\n",
      "  (17448, 1)\t1\n",
      "  (17910, 1)\t1\n",
      "  (17914, 1)\t1\n",
      "  (17933, 1)\t2\n",
      "  (15801, 2)\t1\n",
      "  (15867, 2)\t1\n",
      "  (16217, 2)\t1\n",
      "  (17173, 2)\t3\n",
      "  (17189, 2)\t1\n",
      "  (17386, 2)\t1\n",
      "  (17765, 2)\t4\n",
      "  (17933, 3)\t2\n",
      "  (17325, 4)\t1\n",
      "  (17366, 4)\t1\n",
      "  (16271, 5)\t1\n",
      "  (16837, 5)\t1\n",
      "  (17933, 6)\t2\n",
      "  (17933, 7)\t2\n",
      "  (17173, 8)\t2\n",
      "  (17933, 8)\t1\n",
      "  (15801, 9)\t1\n",
      "  :\t:\n",
      "  (8386, 56199)\t2\n",
      "  (8669, 56200)\t1\n",
      "  (10316, 56200)\t1\n",
      "  (8805, 56201)\t1\n",
      "  (9218, 56201)\t1\n",
      "  (9565, 56202)\t1\n",
      "  (9814, 56202)\t1\n",
      "  (6232, 56203)\t1\n",
      "  (9353, 56203)\t1\n",
      "  (5661, 56204)\t9\n",
      "  (6860, 56204)\t1\n",
      "  (8698, 56204)\t1\n",
      "  (125, 56205)\t1\n",
      "  (1228, 56205)\t1\n",
      "  (4422, 56205)\t1\n",
      "  (5648, 56206)\t1\n",
      "  (7464, 56206)\t1\n",
      "  (5648, 56207)\t2\n",
      "  (6025, 56208)\t2\n",
      "  (6025, 56209)\t2\n",
      "  (6151, 56210)\t2\n",
      "  (8669, 56211)\t1\n",
      "  (10316, 56211)\t1\n",
      "  (6340, 56212)\t1\n",
      "  (8696, 56212)\t1\n"
     ]
    }
   ],
   "source": [
    "print(f'Design matrix: \\n{X}')"
   ]
  },
  {
   "cell_type": "markdown",
   "metadata": {},
   "source": [
    "### Train and Test split\n",
    "To do: consider stratifying by type"
   ]
  },
  {
   "cell_type": "code",
   "execution_count": null,
   "metadata": {},
   "outputs": [
    {
     "name": "stdout",
     "output_type": "stream",
     "text": [
      "(14524, 56213)\n",
      "(14524, 1)\n",
      "(3632, 56213)\n",
      "(3632, 1)\n",
      "int64\n",
      "proportion of spam in training data: 0.3404020930873038\n",
      "proportion of spam in testing data: 0.34030837004405284\n"
     ]
    }
   ],
   "source": [
    "# To do - stratify the split \n",
    "n_samples = labels.shape[0]\n",
    "# Use train_test_split.\n",
    "X_train, X_test, y_train, y_test = train_test_split(X, labels, test_size=0.2, shuffle=True, stratify=labels.toarray().ravel())\n",
    "\n",
    "print(X_train.shape)\n",
    "print(y_train.shape)\n",
    "print(X_test.shape)\n",
    "print(y_test.shape)\n",
    "print(y_train.dtype)\n",
    "print(\"proportion of spam in training data:\", (y_train == 1).sum().item() / y_train.shape[0])\n",
    "print(\"proportion of spam in testing data:\", (y_test == 1).sum().item() / y_test.shape[0])"
   ]
  },
  {
   "cell_type": "code",
   "execution_count": null,
   "metadata": {},
   "outputs": [],
   "source": [
    "def errors(y, y_pred):\n",
    "        \"\"\"\n",
    "        Calculate the proportion of type 2 errors - when the true label is 1 - spam, and the predicted label is 0 - ham\n",
    "\n",
    "        Args:\n",
    "        y: true labels\n",
    "        y_pred: predicted labels\n",
    "        \"\"\"\n",
    "        n = y.shape[0]\n",
    "        y[y == -1] = 0\n",
    "        type2errors = ((y == 1) & (y_pred == 0)).sum().item()\n",
    "        type1errors = ((y == 0) & (y_pred == 1)).sum().item()\n",
    "        correct = (y_pred == y).sum().item()\n",
    "        #print(np.unique(y_pred), np.unique(y))\n",
    "        return type2errors, type1errors, correct"
   ]
  },
  {
   "cell_type": "markdown",
   "metadata": {},
   "source": [
    "### Train/Test models\n",
    "\n",
    "2 models:\n",
    "1. Without penalty\n",
    "2. With penalty"
   ]
  },
  {
   "cell_type": "code",
   "execution_count": null,
   "metadata": {},
   "outputs": [],
   "source": [
    "%run AdaBoostWeakRF.py\n",
    "\n",
    "aboost1 = AdaBoostWeakClassicRF(type2penalty = False, rounds = 200, maxDTdepth = 4)\n",
    "aboost1.fit(X = X_train, y = y_train.toarray().ravel())\n",
    "\n"
   ]
  },
  {
   "cell_type": "code",
   "execution_count": null,
   "metadata": {},
   "outputs": [
    {
     "name": "stdout",
     "output_type": "stream",
     "text": [
      "Model 1 (no penalty) Training set Accuracy:  0.9902230790415864\n",
      "unique predictions - should be 0 and 1: [0 1]\n",
      "type 2 errors: 142 \n",
      " type 1 errors: 0\n"
     ]
    }
   ],
   "source": [
    "predictions = aboost1.predict(X_train)\n",
    "type2, type1, correct = errors(y_train.toarray().ravel(), predictions)\n",
    "print(\"Model 1 (no penalty) Training set Accuracy: \", correct/len(predictions))\n",
    "print(f'unique predictions - should be 0 and 1: {np.unique(predictions)}')\n",
    "print(f'type 2 errors: {type2} \\n type 1 errors: {type1}')"
   ]
  },
  {
   "cell_type": "code",
   "execution_count": null,
   "metadata": {},
   "outputs": [
    {
     "name": "stdout",
     "output_type": "stream",
     "text": [
      "Model 1 Test Accuracy:  0.9427312775330396\n",
      "unique predictions - should be 0 and 1: [0 1]\n",
      "type 2 errors: 163 \n",
      " type 1 errors: 45\n",
      "[0 0 1 ... 0 0 0]\n"
     ]
    }
   ],
   "source": [
    "predictions = aboost1.predict(X_test)\n",
    "type2, type1, correct = errors(y_test.toarray().ravel(), predictions)\n",
    "print(\"Model 1 Test Accuracy: \", correct/len(predictions))\n",
    "print(f'unique predictions - should be 0 and 1: {np.unique(predictions)}')\n",
    "print(f'type 2 errors: {type2} \\n type 1 errors: {type1}')\n",
    "# print(aboost1.alphas)\n",
    "print(predictions)"
   ]
  },
  {
   "cell_type": "code",
   "execution_count": null,
   "metadata": {},
   "outputs": [],
   "source": [
    "%run AdaBoostWeakClassicRF.py\n",
    "\n",
    "aboost2 = AdaBoostWeakClassicRF(type2penalty = True, rounds = 200, maxDTdepth = 5, pen_factor = 1.5)\n",
    "aboost2.fit(X = X_train, y = y_train.toarray().ravel())"
   ]
  },
  {
   "cell_type": "code",
   "execution_count": null,
   "metadata": {},
   "outputs": [
    {
     "name": "stdout",
     "output_type": "stream",
     "text": [
      "Model 2 (with penalty) Training set Accuracy:  0.9816166345359405\n",
      "unique predictions - should be 0 and 1: [0 1]\n",
      "type 2 errors: 267 \n",
      " type 1 errors: 0\n"
     ]
    }
   ],
   "source": [
    "predictions = aboost2.predict(X_train)\n",
    "type2, type1, correct = errors(y_train.toarray().ravel(), predictions)\n",
    "print(\"Model 2 (with penalty) Training set Accuracy: \", correct/len(predictions))\n",
    "print(f'unique predictions - should be 0 and 1: {np.unique(predictions)}')\n",
    "print(f'type 2 errors: {type2} \\n type 1 errors: {type1}')"
   ]
  },
  {
   "cell_type": "code",
   "execution_count": null,
   "metadata": {},
   "outputs": [
    {
     "name": "stdout",
     "output_type": "stream",
     "text": [
      "Model 2 Test Accuracy:  0.9350220264317181\n",
      "unique predictions - should be 0 and 1: [0 1]\n",
      "type 2 errors: 193 \n",
      " type 1 errors: 43\n",
      "[0 0 1 ... 0 0 0]\n"
     ]
    }
   ],
   "source": [
    "predictions = aboost2.predict(X_test)\n",
    "type2, type1, correct = errors(y_test.toarray().ravel(), predictions)\n",
    "print(\"Model 2 Test Accuracy: \", correct/len(predictions))\n",
    "print(f'unique predictions - should be 0 and 1: {np.unique(predictions)}')\n",
    "print(f'type 2 errors: {type2} \\n type 1 errors: {type1}')\n",
    "# print(aboost1.alphas)\n",
    "print(predictions)"
   ]
  },
  {
   "cell_type": "markdown",
   "metadata": {},
   "source": [
    "### Model tuning/Hyperparameter search\n",
    "\n",
    "Sigh. So much overfitting"
   ]
  },
  {
   "cell_type": "code",
   "execution_count": null,
   "metadata": {},
   "outputs": [],
   "source": [
    "param_grid = \\\n",
    "{'type2penalty': [False, True] ,'rounds': [200, 350 ,500], 'maxDTdepth': [5,10], 'pen_factor': [0.1, 0.3, 0.5, 0.7, 1.2, 1.5, 1.7, 2]}"
   ]
  },
  {
   "cell_type": "code",
   "execution_count": null,
   "metadata": {},
   "outputs": [
    {
     "name": "stdout",
     "output_type": "stream",
     "text": [
      "X_train2 shape (12708, 56213) \n",
      "y_train2 shape (12708, 1) \n",
      "X_val shape (1816, 56213) \n",
      "y_val shape (1816, 1) \n"
     ]
    }
   ],
   "source": [
    "X_train2, X_val, y_train2, y_val = train_test_split(X_train, y_train, test_size=0.125, shuffle=True, stratify= y_train.toarray().ravel())\n",
    "\n",
    "print(f'X_train2 shape {X_train2.shape} \\ny_train2 shape {y_train2.shape} \\nX_val shape {X_val.shape} \\ny_val shape {y_val.shape} ')"
   ]
  },
  {
   "cell_type": "code",
   "execution_count": null,
   "metadata": {},
   "outputs": [
    {
     "name": "stdout",
     "output_type": "stream",
     "text": [
      "Model without penalty | rounds: 200 | maxDTdepth: 5\n",
      "Training Accuracy:  0.9968523764557758\n",
      "Training correct count:  12668 len of predictions 12708\n",
      "type 2 errors: 40 \n",
      "type 1 errors: 0\n",
      "Validation Accuracy:  0.9377753303964758\n",
      "type 2 errors: 83 \n",
      "type 1 errors: 30\n",
      "\n",
      "Model with penalty: 0.1 | rounds: 200 | maxDTdepth: 5\n",
      "Training Accuracy:  0.9859930752282027\n",
      "type 2 errors: 177 \n",
      "type 1 errors: 1\n",
      "Validation Accuracy:  0.9383259911894273\n",
      "type 2 errors: 89 \n",
      "type 1 errors: 23\n",
      "\n",
      "Model with penalty: 0.3 | rounds: 200 | maxDTdepth: 5\n",
      "Training Accuracy:  0.987330815234498\n",
      "type 2 errors: 161 \n",
      "type 1 errors: 0\n",
      "Validation Accuracy:  0.9377753303964758\n",
      "type 2 errors: 86 \n",
      "type 1 errors: 27\n",
      "\n",
      "Model with penalty: 0.5 | rounds: 200 | maxDTdepth: 5\n",
      "Training Accuracy:  0.9999213094113943\n",
      "type 2 errors: 0 \n",
      "type 1 errors: 1\n",
      "Validation Accuracy:  0.9460352422907489\n",
      "type 2 errors: 33 \n",
      "type 1 errors: 65\n",
      "\n",
      "Model with penalty: 0.7 | rounds: 200 | maxDTdepth: 5\n",
      "Training Accuracy:  0.9830028328611898\n",
      "type 2 errors: 216 \n",
      "type 1 errors: 0\n",
      "Validation Accuracy:  0.9229074889867841\n",
      "type 2 errors: 103 \n",
      "type 1 errors: 37\n",
      "\n",
      "Model with penalty: 1.2 | rounds: 200 | maxDTdepth: 5\n",
      "Training Accuracy:  0.9977966635190432\n",
      "type 2 errors: 1 \n",
      "type 1 errors: 27\n",
      "Validation Accuracy:  0.9570484581497798\n",
      "type 2 errors: 35 \n",
      "type 1 errors: 43\n",
      "\n",
      "Model with penalty: 1.5 | rounds: 200 | maxDTdepth: 5\n",
      "Training Accuracy:  0.9940195152659742\n",
      "type 2 errors: 63 \n",
      "type 1 errors: 13\n",
      "Validation Accuracy:  0.9702643171806168\n",
      "type 2 errors: 35 \n",
      "type 1 errors: 19\n",
      "\n",
      "Model with penalty: 1.7 | rounds: 200 | maxDTdepth: 5\n",
      "Training Accuracy:  0.993075228202707\n",
      "type 2 errors: 48 \n",
      "type 1 errors: 40\n",
      "Validation Accuracy:  0.9631057268722467\n",
      "type 2 errors: 31 \n",
      "type 1 errors: 36\n",
      "\n",
      "Model with penalty: 2 | rounds: 200 | maxDTdepth: 5\n",
      "Training Accuracy:  0.9875668870003148\n",
      "type 2 errors: 12 \n",
      "type 1 errors: 146\n",
      "Validation Accuracy:  0.948237885462555\n",
      "type 2 errors: 18 \n",
      "type 1 errors: 76\n",
      "\n"
     ]
    }
   ],
   "source": [
    "%run AdaBoostWeakClassicRF.py\n",
    "for rounds in param_grid['rounds']:\n",
    "    for maxDTdepth in param_grid['maxDTdepth']:\n",
    "        dense_y_train2 = y_train2.toarray().ravel()\n",
    "        aboost = AdaBoostWeakClassicRF(type2penalty = False, rounds = rounds, maxDTdepth = maxDTdepth)\n",
    "        aboost.fit(X = X_train2, y = dense_y_train2)\n",
    "\n",
    "        # training reports\n",
    "        predictions = aboost.predict(X_train2)\n",
    "        type2, type1, correct = errors(dense_y_train2, predictions)\n",
    "        #print(f'prediction shape {predictions.shape}, true labels shape {dense_y_train2.shape}')\n",
    "        print(f\"Model without penalty | rounds: {rounds} | maxDTdepth: {maxDTdepth}\")\n",
    "        print(\"Training Accuracy: \", correct/len(predictions))\n",
    "        print(\"Training correct count: \", correct, \"len of predictions\", len(predictions))\n",
    "        print(f'type 2 errors: {type2} \\ntype 1 errors: {type1}')\n",
    "\n",
    "        # validation reports\n",
    "        dense_y_val = y_val.toarray().ravel()\n",
    "        predictions = aboost.predict(X_val)\n",
    "        type2, type1, correct = errors(dense_y_val, predictions)\n",
    "        print(\"Validation Accuracy: \", correct/len(predictions))\n",
    "        print(f'type 2 errors: {type2} \\ntype 1 errors: {type1}\\n')\n",
    "        \n",
    "        for pen_factor in param_grid['pen_factor']:\n",
    "            aboost = AdaBoostWeakClassicRF(type2penalty = True, rounds = rounds, maxDTdepth = maxDTdepth, pen_factor=pen_factor)\n",
    "            aboost.fit(X = X_train2, y = dense_y_train2)\n",
    "\n",
    "            # training reports\n",
    "            predictions = aboost.predict(X_train2)\n",
    "            type2, type1, correct = errors(dense_y_train2, predictions)\n",
    "            print(f\"Model with penalty: {pen_factor} | rounds: {rounds} | maxDTdepth: {maxDTdepth}\")\n",
    "            print(\"Training Accuracy: \", correct/len(predictions))\n",
    "            print(f'type 2 errors: {type2} \\ntype 1 errors: {type1}')\n",
    "\n",
    "            # testing reports\n",
    "            predictions = aboost.predict(X_val)\n",
    "            type2, type1, correct = errors(dense_y_val, predictions)\n",
    "            print(\"Validation Accuracy: \", correct/len(predictions))\n",
    "            print(f'type 2 errors: {type2} \\ntype 1 errors: {type1}\\n')\n"
   ]
  },
  {
   "cell_type": "markdown",
   "metadata": {},
   "source": [
    "### Performance Metrics\n",
    "\n",
    "F1 score, confusion matrix, "
   ]
  },
  {
   "cell_type": "code",
   "execution_count": null,
   "metadata": {},
   "outputs": [],
   "source": []
  },
  {
   "cell_type": "code",
   "execution_count": null,
   "metadata": {},
   "outputs": [],
   "source": []
  }
 ],
 "metadata": {
  "kernelspec": {
   "display_name": "Python 3 (ipykernel)",
   "language": "python",
   "name": "python3"
  },
  "language_info": {
   "codemirror_mode": {
    "name": "ipython",
    "version": 3
   },
   "file_extension": ".py",
   "mimetype": "text/x-python",
   "name": "python",
   "nbconvert_exporter": "python",
   "pygments_lexer": "ipython3",
   "version": "3.11.4"
  }
 },
 "nbformat": 4,
 "nbformat_minor": 4
}
