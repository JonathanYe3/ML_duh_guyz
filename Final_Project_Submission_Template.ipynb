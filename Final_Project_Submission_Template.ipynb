{
  "cells": [
    {
      "cell_type": "markdown",
      "metadata": {
        "id": "39GGICFzwDrj"
      },
      "source": [
        "# **Instructions**\n",
        "\n",
        "This document is a template, and you are not required to follow it exactly. However, the kinds of questions we ask here are the kinds of questions we want you to focus on. While you might have answered similar questions to these in your project presentations, we want you to go into a lot more detail in this write-up; you can refer to the Lab homeworks for ideas on how to present your data or results.\n",
        "\n",
        "You don't have to answer every question in this template, but you should answer roughly this many questions. Your answers to such questions should be paragraph-length, not just a bullet point. You likely still have questions of your own -- that's okay! We want you to convey what you've learned, how you've learned it, and demonstrate that the content from the course has influenced how you've thought about this project."
      ]
    },
    {
      "cell_type": "markdown",
      "metadata": {
        "id": "-9VDfC-ie19P"
      },
      "source": [
        "# Project Name\n",
        "Project mentor: the GOAT Edward Wang\n",
        "\n",
        "Nick Geissler <ngeissl2@jh.edu>, Annie Wang <awang105@jh.edu>, Jonathan Ye <jye41@jh.edu>, Evan Zhu <ezhu13@jh.edu>\n",
        "\n",
        "Link_to_git_repo - https://github.com/JonathanYe3/ML_duh_guyz.git"
      ]
    },
    {
      "cell_type": "markdown",
      "metadata": {
        "id": "uqwI3PT-hBJo"
      },
      "source": [
        "# Outline and Deliverables"
      ]
    },
    {
      "cell_type": "markdown",
      "metadata": {
        "id": "F7Af6y48e7HI"
      },
      "source": [
        "List the deliverables from your project proposal. For each uncompleted deliverable, please include a sentence or two on why you weren't able to complete it (e.g. \"decided to use an existing implementation instead\" or \"ran out of time\"). For each completed deliverable, indicate which section of this notebook covers what you did.\n",
        "\n",
        "If you spent substantial time on any aspects that weren't deliverables in your proposal, please list those under \"Additional Work\" and indicate where in the notebook you discuss them.\n",
        "\n",
        "### Uncompleted Deliverables\n",
        "1. \"Expect to complete #1: Spamicity evaluation\": This metric proved less important than others in our opinion (F1 score, overall accuracy, type 2 errors, etc.)\n",
        "2. \"Would like to complete #1: Further malevolent detection\": We believe this to be very intensive for marginal improvement. Our algorithm is quite accurate, and implementing some of these algorithms could've been an entire project in its own right.\n",
        "3. \"Would like to complete #2: Personalized deployment data\": Some group members were not comfortable disclosing the contents of their emails.\n",
        "4. \"Would like to complete #3: Error analysis\": With single words and tokens as features, and no current features in our preprocessing to capture clusters of words or even word orderings, this would be extremely difficult to do. It would addtitionally likely result in AdaBoost being incompatible with the newly preprocessed data.\n",
        "5. \"Would like to complete #4: Removal of typos\": We concluded this would in fact be disadvantageous. Many spam and scam emails utilize typos to seem more \"believable.\"\n",
        "\n",
        "\n",
        "### Completed Deliverables\n",
        "1. \"Must complete #1: Implement AdaBoost\": We discuss our dataset pre-processing [in \"Dataset\" below](#scrollTo=zFq-_D0khnhh&line=10&uniqifier=1).\n",
        "2. \"Must complete #2: Evaluation of performance\": We discuss training our logistic regression baseline [in \"Baselines\" below](#scrollTo=oMyqHUa0jUw7&line=5&uniqifier=1).\n",
        "3. \"Must complete #3: Basic success benchmark\": We discuss our model's basic performance [in \"Results\" below](#results).\n",
        "4. \"Expect to complete #2: Custom loss function\": We discuss our custom loss function that penalizes type 2 errors according to the user's specifications [in \"Custom loss function\" below](#custom-loss-function). \n",
        "5. \"Expect to complete #3: Visualization\": We visualize and interpret our results [in \"Results\" below](#results).\n",
        "6. \"Expect to complete #4: Comparative evaluation\": We compare our model's results against those of SVM and random forest [in \"Results\" below](#results).\n",
        "7. **\"Would like to complete #2: Personalized deployment data\": We sampled some proprietary emails to see if our model generalizes to real-world situtations in ##idk man maybe we scrape angie email that would be funny otherwise this thing would be uncompleted + The dataset covered all types of emails, from marketing to personal to corporate, and we are rly not that quirky its probably fine**\n",
        "\n",
        "### Additional Deliverables\n",
        "1. We ran an extensive grid search [EVAN PLEASE INDICATE THE SECTION HERE]."
      ]
    },
    {
      "cell_type": "markdown",
      "metadata": {
        "id": "Eiq2aSauhSsS"
      },
      "source": [
        "# Preliminaries"
      ]
    },
    {
      "cell_type": "markdown",
      "metadata": {
        "id": "NtWkhiIPfOfK"
      },
      "source": [
        "## What problem were you trying to solve or understand?\n",
        "\n",
        "Q. What are the real-world implications of this data and task?\n",
        "\n",
        "A. Email communication is one of the most important methods of information transmission in use today. Malevolent spam, phishing, and malware attacks threaten the safety and wellbeing of email users, resulting in monetary damages, security breaches, and privacy violations. Vulnerable populations such as the elderly or non-tech-savvy are particularly susceptible to such scams. Consequently, it is important to be able to accurately classify spam vs \"ham\" or non-spam email to alert and protect those who need it most. Also, when considering the real life implications of this task, we aim to specifically minimize type 2 errors (spam classified as ham) as it is far more likely for a type 2 error to lead to a scammed individual. We recognize that this results in some legitmate emails being sent to spam/scam, but conclude that this is worth the safety enhancement. Additionally, our implementation in fact introduces a hyperparameter which encodes this penalty, so the implementation in fact would potentially allow users to essentially vary the sensitivity of the algorithm to spam emails.\n",
        "\n",
        "How is this problem similar to others we’ve seen in lectures, breakouts, and homeworks?\n",
        "\n",
        "A. Although there hasn't been a coding homework problem directly implementing AdaBoost, we've extensively covered error penalization and AdaBoost in lecture and for the midterm exam. We've also discussed/implemented classification problems like logistic regression, softmax regression, and SVM. During hyperparameter tuning, we also got to see examples of bias and variance tradeoff, as well as overfitting and underfitting, which has been extensively covered in lecture and homework 1.\n",
        "\n",
        "Q. What makes this problem unique?\n",
        "\n",
        "A. The scam industry is continually evolving and constantly deploys more advanced scams as technology evolves. Consequentially, to keep up, we need to continue development of novel approaches and review of old techniques at the same pace. Although spam detection is a fairly saturated subject, we wanted to develop an algorithm that prioritizes the real-life implication of type 2 errors. Additionally, AdaBoost doesn't seem to be a very common method currently in use for spam email detection. Perhaps additionally interesting, this problem could not be solved by just applying a pre-existing sklearn model, as there was no existing hyperparameter for a non-uniformly weighted loss function in the existing sklearn AdaBoost.\n",
        "\n",
        "Q. What ethical implications does this problem have?\n",
        "\n",
        "A. Scammers unethically trick people into giving away valuable things, whether that is information, money, both, or more. Also, cyber attacks that take advantage of vulnerable populations disproportionately harm those populations. We seek to help find an equitable solution. This problem also does tie somewhat into the ethics of user control. Since our implementation could allow a user to adjust the \"type 2 error\" penalty, they regain control over what information they see and what is filtered out, which is a particularly requested feature in technology these days."
      ]
    },
    {
      "cell_type": "markdown",
      "metadata": {
        "id": "zFq-_D0khnhh"
      },
      "source": [
        "## Dataset(s)\n",
        "\n",
        "Q. Describe the dataset(s) you used.\n",
        "\n",
        "A. Our dataset combines three datasets found on Kaggle. Each datum included a categorized (spam or ham) email, which we were able to break down for further analysis. In total there were 11,976 ham emails and 6,180 spam emails.\n",
        "\n",
        "Q. How were they collected?\n",
        "\n",
        "A. We downloaded the raw data from Kaggle.\n",
        "\n",
        "Q. Why did you choose them?\n",
        "\n",
        "A.  These data sets were appealing because of their breadth and lent themselves well to our preprocessing framework. They were also free. The emails were clearly labeled and covered a wide range of topics.\n",
        "\n",
        "Q. How many examples in each?\n",
        "\n",
        "A. In total, we had 18,156 labeled emails and 56,214 features"
      ]
    },
    {
      "cell_type": "code",
      "execution_count": null,
      "metadata": {},
      "outputs": [],
      "source": [
        "# Import guys\n",
        "import pandas as pd\n",
        "import numpy as np\n",
        "from scipy import sparse\n",
        "# from AdaBoostClassifier import AdaBoostClassifier\n",
        "#%run AdaBoostWeak.py\n",
        "from sklearn.model_selection import train_test_split\n",
        "import matplotlib.pyplot as plt\n",
        "from sklearn import metrics"
      ]
    },
    {
      "cell_type": "markdown",
      "metadata": {},
      "source": [
        "## Pre-processing\n",
        "\n",
        "Please see our preprocessing2 jupyter notebook: {insert link}. \n",
        "\n",
        "### Questions\n",
        "\n",
        "Q. What features did you use or choose not to use? Why?\n",
        "\n",
        "A. Each feature is a lemma of a word that was present in more than one email. A lemma of a word is specifically the root of a word present in an email (these lemmas were found by lemmatizing the words in the email using a pre-existing NLP model).\n",
        "\n",
        "Q. If you have categorical labels, were your datasets class-balanced?\n",
        "\n",
        "A. The dataset was entirely categorical, with labels for lemma features being either 0 if the lemma was contained in a given email and one otherwise. The overall label for each email was either a 1 for spam and a 0 for a legitimate email.\n",
        "\n",
        "Q. How did you deal with missing data? What about outliers?\n",
        "\n",
        "A. Missing data and outliers were not really an issue within our dataset. Each email had an associated label as spam or legitimate, with no missing labels. Additionally, it would be difficult and even perhaps erroneous to mark emails, which just consist entirely of sets of words for the purposes of our algorithm, as outliers by some strange metric.\n",
        "\n",
        "Q. What approach(es) did you use to pre-process your data? Why?\n",
        "\n",
        "A. We stripped the data of NaNs and punctuation, then broke the emails into arrays of tokenized words, and eliminated pre-classified \"stop words\" like conjunctions and other words that would not change the sentiment or perceived danger level of a sentence. After this, a lemmatizer from the NLTK package lemmatized the individual words. Then, some more particular things were done to enhance viability of the algorithm. Firstly, all numbers were compressed into one \"contains number\" feature. Additionally, lemmas were only kept if they appeared in more than one email. Despite this compression, we encountered computational issues owing to the volume of data. We used a sparse matrix to handle the transformation of preprocessed text to a numerical matrix which conserved more memory/storage and allowed for efficient training.\n",
        "\n",
        "Q. Are your features continuous or categorical? How do you treat these features differently?\n",
        "\n",
        "A. The features are entirely categorical. Because of this, we need not distinguish between categorical and continuous features or worry about how to handle the differences."
      ]
    },
    {
      "cell_type": "code",
      "execution_count": null,
      "metadata": {
        "id": "EEuKEzM5ipag"
      },
      "outputs": [],
      "source": [
        "# For those same examples above, what do they look like after being pre-processed?\n",
        "# column names\n",
        "with open('data/column_names.txt', 'rb') as f:\n",
        "    column_names = [line.strip() for line in f] # feature labels\n",
        "\n",
        "sparse_dat = sparse.load_npz(\"data/sparse_df.npz\")\n",
        "\n",
        "# Extract labels from the first column\n",
        "labels = sparse_dat[:, 0] # ground truth labels - 0 ham, 1 spam\n",
        "\n",
        "# Create a list of column indices to keep\n",
        "to_keep = list(set(range(sparse_dat.shape[1])) - set([0]))\n",
        "\n",
        "# Extract the design matrix\n",
        "X = sparse_dat[:, to_keep]\n",
        "\n",
        "print(f'Example labels (indices of spam emails): \\n{labels[0:10]}\\nHere, we can see that the 3rd, 6th, 9th, and 10th emails are spam')\n",
        "\n",
        "# Get the indices of non-zero elements in the first row of the sparse matrix\n",
        "non_zero_indices = sparse_dat[2].nonzero()[1]\n",
        "\n",
        "# Get the corresponding column names\n",
        "tokens = [column_names[i] for i in non_zero_indices]\n",
        "\n",
        "print(f\"Example words (features) for the third email (spam email): \\n{tokens} \")"
      ]
    },
    {
      "cell_type": "code",
      "execution_count": 62,
      "metadata": {
        "id": "1cDLEwhAx0gP"
      },
      "outputs": [
        {
          "name": "stdout",
          "output_type": "stream",
          "text": [
            "[array([    2,     5,     8, ..., 15974, 15975, 15976], dtype=int32), array([0, 0, 0, ..., 0, 0, 0], dtype=int32)]\n"
          ]
        },
        {
          "data": {
            "image/png": "[encoded data removed]",
            "text/plain": [
              "<Figure size 640x480 with 1 Axes>"
            ]
          },
          "metadata": {},
          "output_type": "display_data"
        }
      ],
      "source": [
        "# Visualize the distribution of your data before and after pre-processing.\n",
        "#   You may borrow from how we visualized data in the Lab homeworks.\n",
        "\n",
        "#Pie chart for spam and ham emails\n",
        "with open('data/alldatacounts.txt', 'rb') as f:\n",
        "    alldatacounts = [line.strip() for line in f]\n",
        "alldatacounts = np.array([int(alldatacounts[i]) for i in range(len(alldatacounts))])\n",
        "plt.pie(alldatacounts,labels = alldatacounts)\n",
        "plt.title(\"Proportion of emails that are Ham vs. Spam (Both Before and After Preprocessing)\")\n",
        "plt.legend([\"Ham\",\"Spam\"])\n",
        "\n",
        "# Concatenating all of the words from all spam emails into one string and same for ham\n",
        "non_zero_indices = [i for i in labels.nonzero()]\n",
        "print(non_zero_indices)\n",
        "#n"
      ]
    },
    {
      "cell_type": "markdown",
      "metadata": {
        "id": "tASjmmtjiwvu"
      },
      "source": [
        "# Models and Evaluation"
      ]
    },
    {
      "cell_type": "markdown",
      "metadata": {
        "id": "LlrwR9E1hnQ3"
      },
      "source": [
        "## Experimental Setup\n",
        "\n",
        "### Evaluation metrics\n",
        "\n",
        "Q. How did you evaluate your methods? Why is that a reasonable evaluation metric for the task?\n",
        "\n",
        "A. We analyzed multiple different metrics when determining how successful our algorithm was. Firstly, and perhaps most logically, we evaluated the overall accuracy of our AdaBoost algorithm. This is simply calculated as the ottal number of correct classifications relative to the entire dataset. This is the standard benchmark metric for classification algorithms. We also calculated the F1 score, but realize this is less important as the dataset is not class balanced. A final metric we used to evaluate our email classifier was the amount of \"type 1\" and \"type 2\" errors that the classifier makes. To clarify, a \"type 1\" error is when a legitimate email is classified as spam (as if our null hypothesis was that the email is legitimate) and a \"type 2\" error is when a spam email. Since we prioritize safety in our implementation, we value decreasing type 2 errors highly, even at the cost of some more type 1 errors.\n"
      ]
    },
    {
      "cell_type": "markdown",
      "metadata": {},
      "source": [
        "### Custom loss function\n",
        "\n",
        "Q. What did you use for your loss function to train your models? Did you try multiple loss functions? Why or why not?\n",
        "\n",
        "A. Our custom loss function is pasted below. Rather than assign a uniform loss of 1 for any misclassification, we implemented the ability to adjust the type 2 errors (classifying ham when actually spam) by a multiplicative factor. So, for example, if our ith weak learner misclassified the jth email as ham when the true label was spam, the jth entry of the weak learner's error vector would receive an error value of pen_factor. For a large penalty (>1) this results in the alpha value being smaller if there were many type 2 errors. As a result, the weights for the particular sample will be higher! Hence, the algorithm will focus more attention on this misclassified emails and the type 2 errors. [adaboost for dummies](https://towardsdatascience.com/adaboost-for-dummies-breaking-down-the-math-and-its-equations-into-simple-terms-87f439757dcf)\n",
        "\n",
        "We did try a couple other loss functions, but they sucked. One of our preliminary ideas was to weight the alpha itself as a function of the proportion of type 2 errors, but we found this to be ineffective and less interpretable.\n",
        "\n",
        "Furthermore, we implemented our own Adaboost algorithm to leverage this custom loss function. [github](https://github.com/JonathanYe3/ML_duh_guyz/blob/main/AdaBoostWeakClassic.py)"
      ]
    },
    {
      "cell_type": "code",
      "execution_count": null,
      "metadata": {
        "id": "qUNxC358jPDr"
      },
      "outputs": [],
      "source": [
        "# Code for loss functions, evaluation metrics or link to Git repo\n",
        "\n",
        "def compute_error(y, y_pred, w_i, type2penalty, pen_factor):\n",
        "    '''\n",
        "    Calculate the error rate of a weak classifier m. Arguments:\n",
        "    y: actual target value\n",
        "    y_pred: predicted value by weak classifier\n",
        "    w_i: individual weights for each observation\n",
        "\n",
        "    \n",
        "    Note that all arrays should be the same length. Convert sparse array to regular array before calling\n",
        "    '''\n",
        "    if type2penalty:\n",
        "        error = (sum(w_i * (t2_pred_err_vec(y, y_pred, pen_factor)).astype(float)))/sum(w_i)\n",
        "    else:\n",
        "        error = (sum(w_i * (np.not_equal(y, y_pred)).astype(int)))/sum(w_i)\n",
        "\n",
        "    return error\n",
        "def t2_pred_err_vec(y,y_pred, pen_factor):\n",
        "    pred_err_vec = ((y_pred==-1) & (y==1))* pen_factor\n",
        "    better_err_vec = ((y_pred==1)) & (y==-1)\n",
        "    pred_err_vec = pred_err_vec+better_err_vec\n",
        "    if np.isnan(pred_err_vec).any(): print(\"WAHHHHH NAN\")\n",
        "    return pred_err_vec\n"
      ]
    },
    {
      "cell_type": "markdown",
      "metadata": {},
      "source": [
        "### Train/Test split\n",
        "\n",
        "Q. How did you split your data into train and test sets? Why?\n",
        "\n",
        "A. We stratified by the y labels - so that we had similar proportion of spam in both train + test. This is common practice and helps prevent the test set from being biased towards the majority class (ham) and ensures a fair evaluation of our model's ability to detect spam emails."
      ]
    },
    {
      "cell_type": "code",
      "execution_count": null,
      "metadata": {},
      "outputs": [],
      "source": [
        "# Train test split\n",
        "\n",
        "# Use train_test_split.\n",
        "X_train, X_test, y_train, y_test = train_test_split(X, labels, test_size=0.2, shuffle=True, stratify=labels.toarray().ravel())\n",
        "\n",
        "y_train_flat = y_train.copy().toarray().ravel()\n",
        "#y_train_flat[y_train_flat == -1] = 0 See if you have to run this line if anything sus\n",
        "\n",
        "y_test_flat = y_test.copy().toarray().ravel()\n",
        "# y_test_flat[y_test_flat == -1] = 0 Same here\n"
      ]
    },
    {
      "cell_type": "markdown",
      "metadata": {
        "id": "oMyqHUa0jUw7"
      },
      "source": [
        "## Baselines\n",
        "\n",
        "Q. What baselines did you compare against? Why are these reasonable?\n",
        "\n",
        "A. We compared our custom Adaboost model with scikit-learn's Support Vector Machine (SVM) and Random Forest classifiers, both with default parameters. These were reasonable choices for baselines because SVMs and Random Forests are popular and well-performing algorithms for text classification tasks like spam filtering. They achieve good accuracy and are relatively easy to implement, making them strong benchmarks. Additionally, unlike some complex models, SVMs and Random Forests offer some level of interpretability. This allows us to understand the factors influencing their spam/ham classifications, which can be valuable for improving our Adaboost model. Finally, By using default parameters, we establish a baseline performance without the influence of extensive tuning. This lets us compare our Adaboost's performance with these established algorithms to see if our custom loss function focusing on type 2 errors leads to any improvements.\n",
        "\n",
        "\n",
        "Q. Did you look at related work to contextualize how others methods or baselines have performed on this dataset/task? If so, how did those methods do?\n",
        "\n",
        "A. Yes, we looked at related work on spam classification to contextualize how other methods or baselines have performed on this task. In addition to SVMs and Random Forests, related work often explores other boosting algorithms like XGBoost or GBDT. Additionally, some studies investigate Naive Bayes classifiers, which are known for their simplicity and efficiency in text classification. Even simpler rule-based approaches based on keyword filtering might be examined as baselines. The performance of these related methods varies depending on the specific approach and dataset used. One goal was to compare their achieved accuracy with our Adaboost model and the chosen baselines (SVM and Random Forest). More importantly, however, we wanted to see if our type 2 penalty was effective, which is our novel contribution to the email classification problem.\n"
      ]
    },
    {
      "cell_type": "code",
      "execution_count": null,
      "metadata": {},
      "outputs": [],
      "source": [
        "# Helper function to calculate error types\n",
        "\n",
        "def errors(y, y_pred):\n",
        "        \"\"\"\n",
        "        Calculate the proportion of type 2 errors - when the true label is 1 - spam, and the predicted label is 0 - ham\n",
        "\n",
        "        Args:\n",
        "        y: true labels\n",
        "        y_pred: predicted labels\n",
        "        \"\"\"\n",
        "        n = y.shape[0]\n",
        "        y[y == -1] = 0\n",
        "        type2errors = ((y == 1) & (y_pred == 0)).sum().item()\n",
        "        type1errors = ((y == 0) & (y_pred == 1)).sum().item()\n",
        "        correct = (y_pred == y).sum().item()\n",
        "        #print(np.unique(y_pred), np.unique(y))\n",
        "        return type2errors, type1errors, correct"
      ]
    },
    {
      "cell_type": "code",
      "execution_count": null,
      "metadata": {},
      "outputs": [],
      "source": [
        "# SVM\n",
        "\n",
        "from sklearn import svm\n",
        "svm_example = svm.SVC(probability = True)\n",
        "svm_example.fit(X_train, y_train_flat)\n"
      ]
    },
    {
      "cell_type": "code",
      "execution_count": null,
      "metadata": {},
      "outputs": [],
      "source": [
        "# Train metrics\n",
        "predictions = svm_example.predict(X_train)\n",
        "type2, type1, correct = errors(y_train_flat, predictions)\n",
        "f1 = metrics.f1_score(y_true = y_train_flat, y_pred= predictions)\n",
        "\n",
        "svm_train_metrics = [\"svm\",type2, type1, correct/len(predictions), f1]\n",
        "\n",
        "# For ROC\n",
        "scores = svm_example.predict_proba(X_test)\n",
        "svm_fpr, svm_tpr, thresholds  = metrics.roc_curve(y_test_flat, scores[:,1])\n",
        "\n",
        "# type 2 error stuff TEST\n",
        "predictions = svm_example.predict(X_test)\n",
        "type2, type1, correct = errors(y_test_flat, predictions)\n",
        "f1 = metrics.f1_score(y_true = y_test_flat, y_pred= predictions)\n",
        "\n",
        "svm_test_metrics = [\"svm\", type2, type1, correct/len(predictions), f1]"
      ]
    },
    {
      "cell_type": "code",
      "execution_count": null,
      "metadata": {},
      "outputs": [],
      "source": [
        "# Random Forest\n",
        "\n",
        "from sklearn.ensemble import RandomForestClassifier\n",
        "rf = RandomForestClassifier()\n",
        "rf.fit(X_train, y_train_flat)"
      ]
    },
    {
      "cell_type": "code",
      "execution_count": null,
      "metadata": {},
      "outputs": [],
      "source": [
        "# Train metrics\n",
        "predictions = rf.predict(X_train)\n",
        "type2, type1, correct = errors(y_train_flat, predictions)\n",
        "f1 = metrics.f1_score(y_true = y_train_flat, y_pred= predictions)\n",
        "\n",
        "rf_train_metrics = [\"rf\",type2, type1, correct/len(predictions), f1]\n",
        "\n",
        "# For ROC\n",
        "scores = rf.predict_proba(X_test)\n",
        "rf_fpr, rf_tpr, thresholds = metrics.roc_curve(y_test_flat, scores[:,1])\n",
        "\n",
        "# type 2 error stuff TEST\n",
        "predictions = rf.predict(X_test)\n",
        "type2, type1, correct = errors(y_test_flat, predictions)\n",
        "f1 = metrics.f1_score(y_true = y_test_flat, y_pred= predictions)\n",
        "\n",
        "rf_test_metrics = [\"rf\", type2, type1, correct/len(predictions), f1]"
      ]
    },
    {
      "cell_type": "markdown",
      "metadata": {
        "id": "PqB48IF9kMBf"
      },
      "source": [
        "## Methods\n",
        "\n",
        "Q. What methods did you choose? Why did you choose them?\n",
        "\n",
        "A. As mentioned above, we chose to manually implement Adaboost so that we could leverage a custom loss function that penalized type 2 errors more heavily. Beyond this, we chose Adaboost in general due to its robustness against overfitting, relative interpretability, and the fact that most research into this task did not involve Adaboost. We chose to sklearn's decision trees as our weak learners, because adaboost typically boosts decision trees of limited depth.\n",
        "\n",
        "Q. How did you train these methods, and how did you evaluate them? Why?\n",
        "\n",
        "A. \n",
        "\n",
        "Q. Which methods were easy/difficult to implement and train? Why?\n",
        "\n",
        "A. Implementating Adaboost itself was decently hard. Big obstacle was getting the weak learners to be unique. Maybe also talk about boosting RF? [github](https://github.com/JonathanYe3/ML_duh_guyz/blob/main/AdaBoostWeakClassic.py)\n",
        "\n",
        "Our custom loss function was easy to implement, as we could simply adapt the current error calculation.\n",
        "\n",
        "\n",
        "Q. For each method, what hyperparameters did you evaluate? How sensitive was your model's performance to different hyperparameter settings?\n",
        "\n",
        "A. First, we ran a grid search to find the best set of parameters for our goal - to reduce type 2 error (actual spam email classified as ham) while not sacrificing too much accuracy. Details are in the grid search section, but we evaluated the rounds of boosting, max depth of our weak learners, and the penalty factor."
      ]
    },
    {
      "cell_type": "markdown",
      "metadata": {},
      "source": [
        "## Grid Search\n",
        "\n",
        "EVAN WAHHHH - add details (explain validation set, cross fold, yada yada) and most importantly paste that figure in here"
      ]
    },
    {
      "cell_type": "code",
      "execution_count": null,
      "metadata": {},
      "outputs": [],
      "source": [
        "# do something here"
      ]
    },
    {
      "cell_type": "markdown",
      "metadata": {},
      "source": [
        "## Training the model\n",
        "\n",
        "Using our choise of parameters from grid search:\n",
        "\n",
        "penalty factor = 2\n",
        "\n",
        "decision tree depth = 5 - for the sake of speed\n",
        "\n",
        "number of boosting rounds = 200 - for the sake of speed\n"
      ]
    },
    {
      "cell_type": "code",
      "execution_count": null,
      "metadata": {
        "id": "ma4JoDzar6xU"
      },
      "outputs": [],
      "source": [
        "# Code for training models, or link to your Git repository\n",
        "%run AdaBoostWeakClassic.py\n",
        "\n",
        "aboost_final = AdaBoostWeakClassic(rounds = 200, type2penalty=True, pen_factor = 2.0, maxDTdepth=5)\n",
        "aboost_final.fit(X_train, y_train_flat)"
      ]
    },
    {
      "cell_type": "code",
      "execution_count": null,
      "metadata": {},
      "outputs": [],
      "source": [
        "# Training metrics\n",
        "predictions = aboost_final.predict(X_train)\n",
        "type2, type1, correct = errors(y_train.toarray().ravel(), predictions)\n",
        "print(\"Final Model (without penalty) Training set Accuracy: \", correct/len(predictions))\n",
        "print(f'unique predictions - should be 0 and 1: {np.unique(predictions)}')\n",
        "print(f'type 2 errors: {type2} \\n type 1 errors: {type1}')\n",
        "# y_train_flat = y_train.copy().toarray().ravel()\n",
        "# y_train_flat[y_train_flat == -1] = 0\n",
        "\n",
        "f1 = metrics.f1_score(y_true = y_train_flat, y_pred= predictions)\n",
        "print(f'F1 score: {f1}')\n",
        "\n",
        "# aboost_train_metrics = [type2, type1, correct/len(predictions), f1]"
      ]
    },
    {
      "cell_type": "code",
      "execution_count": null,
      "metadata": {},
      "outputs": [],
      "source": [
        "aboost_train_metrics = [\"adaboost\",type2, type1, correct/len(predictions), f1]"
      ]
    },
    {
      "cell_type": "code",
      "execution_count": null,
      "metadata": {},
      "outputs": [],
      "source": [
        "# Test Metrics\n",
        "# For ROC\n",
        "probits = aboost_final.predict_probs(X_test)\n",
        "ada_fin_fpr, ada_fin_tpr, thresholds  = metrics.roc_curve(y_test_flat, probits)\n",
        "\n",
        "predictions = aboost_final.predict(X_test)\n",
        "type2, type1, correct = errors(y_test_flat, predictions)\n",
        "f1 = metrics.f1_score(y_true = y_test_flat, y_pred= predictions)\n",
        "\n",
        "# aboost_test_metrics = [type2, type1, correct/len(predictions), f1]"
      ]
    },
    {
      "cell_type": "code",
      "execution_count": null,
      "metadata": {},
      "outputs": [],
      "source": [
        "aboost_test_metrics = [\"adaboost\",type2, type1, correct/len(predictions), f1]"
      ]
    },
    {
      "cell_type": "code",
      "execution_count": null,
      "metadata": {
        "id": "RO_kP1fmkWWk"
      },
      "outputs": [],
      "source": [
        "# Show plots of how these models performed during training. FUCK\n",
        "#  For example, plot train loss and train accuracy (or other evaluation metric) on the y-axis,\n",
        "#  with number of iterations or number of examples on the x-axis.\n",
        "plt.plot(range(2, 201, 10), aboost_final.accuracies)\n",
        "plt.xlabel(\"Boosting rounds\")\n",
        "plt.ylabel(\"Accuracy\")\n",
        "plt.title(\"Boosting rounds vs. Accuracy\")\n",
        "plt.show()\n",
        "plt.plot(range(2, 201, 10), aboost_final.type2errors)\n",
        "plt.xlabel(\"Boosting rounds\")\n",
        "plt.ylabel(\"Number of type 2 errors\")\n",
        "plt.title(\"Boosting rounds vs. Type 2 Errors\")\n",
        "plt.show()"
      ]
    },
    {
      "cell_type": "markdown",
      "metadata": {
        "id": "_Zdp4_H-kx8H"
      },
      "source": [
        "## Results\n",
        "\n",
        "Show tables comparing your methods to the baselines.\n",
        "\n",
        "Q. What about these results surprised you? Why?\n",
        "\n",
        "A. \n",
        "\n",
        "Q. Did your models over- or under-fit? How can you tell? What did you do to address these issues?\n",
        "\n",
        "A. \n",
        "\n",
        "Q. What does the evaluation of your trained models tell you about your data? How do you expect these models might behave differently on different data?  \n",
        "\n",
        "A. "
      ]
    },
    {
      "cell_type": "code",
      "execution_count": null,
      "metadata": {
        "id": "bS2sjfbglG_V"
      },
      "outputs": [],
      "source": [
        "# Show plots or visualizations of your evaluation metric(s) on the train and test sets.\n",
        "#   What do these plots show about over- or under-fitting?\n",
        "#   You may borrow from how we visualized results in the Lab homeworks.\n",
        "#   Are there aspects of your results that are difficult to visualize? Why?"
      ]
    },
    {
      "cell_type": "markdown",
      "metadata": {},
      "source": [
        "### ROC Curve Comparison\n"
      ]
    },
    {
      "cell_type": "code",
      "execution_count": null,
      "metadata": {},
      "outputs": [],
      "source": [
        "plt.plot(svm_fpr, svm_tpr, marker='.', label='Default SVM')\n",
        "plt.plot(rf_fpr, rf_tpr, marker='.', label='Default Random Forest')\n",
        "plt.plot(ada_fin_fpr, ada_fin_tpr, marker='.', label='Custom Adaboost')\n",
        "\n",
        "\n",
        "plt.title(\"ROC comparison\")\n",
        "plt.legend()"
      ]
    },
    {
      "cell_type": "markdown",
      "metadata": {},
      "source": [
        "### Table"
      ]
    },
    {
      "cell_type": "code",
      "execution_count": null,
      "metadata": {},
      "outputs": [],
      "source": [
        "from prettytable import PrettyTable\n",
        "\n",
        "train_table = PrettyTable([\"train method\",\"type 2\", \"type 1\", \"accuracy\", \"F1\"])\n",
        "train_table.add_row(svm_train_metrics)\n",
        "train_table.add_row(rf_train_metrics)\n",
        "train_table.add_row(aboost_train_metrics)\n",
        "train_table._rows[-1] = [f\"\\033[1m{cell}\\033[0m\" for cell in train_table._rows[-1]]\n",
        "print(train_table)\n",
        "\n",
        "test_table = PrettyTable([\"test method\",\"type 2\", \"type 1\", \"accuracy\", \"F1\"])\n",
        "test_table.add_row(svm_test_metrics)\n",
        "test_table.add_row(rf_test_metrics)\n",
        "test_table.add_row(aboost_test_metrics)\n",
        "test_table._rows[-1] = [f\"\\033[1m{cell}\\033[0m\" for cell in test_table._rows[-1]]\n",
        "print(test_table)"
      ]
    },
    {
      "cell_type": "code",
      "execution_count": 45,
      "metadata": {
        "id": "2lOicoBYif7g"
      },
      "outputs": [
        {
          "name": "stdout",
          "output_type": "stream",
          "text": [
            "  Category                                            Message\n",
            "0      ham  Go until jurong point, crazy.. Available only ...\n",
            "1      ham                      Ok lar... Joking wif u oni...\n",
            "2     spam  Free entry in 2 a wkly comp to win FA Cup fina...\n"
          ]
        }
      ],
      "source": [
        "# Load your data and print 2-3 examples\n",
        "df1 = pd.read_csv(\"data/spam.csv\", usecols=[0,1])\n",
        "print(df1.iloc[0:3,:])\n"
      ]
    },
    {
      "cell_type": "markdown",
      "metadata": {
        "id": "59EbS1GilSQ_"
      },
      "source": [
        "# Discussion"
      ]
    },
    {
      "cell_type": "markdown",
      "metadata": {
        "id": "ugJXhZKNlUT4"
      },
      "source": [
        "## What you've learned\n",
        "\n",
        "*Note: you don't have to answer all of these, and you can answer other questions if you'd like. We just want you to demonstrate what you've learned from the project.*\n",
        "\n",
        "Q. What concepts from lecture/breakout were most relevant to your project? How so?\n",
        "\n",
        "A. The Adaboost lecture\n",
        "\n",
        "Q. What aspects of your project did you find most surprising?\n",
        "\n",
        "A. The fact that it outperforms sklearn default SVM, and is not horribly inefficient\n",
        "\n",
        "Q. What lessons did you take from this project that you want to remember for the next ML project you work on? Do you think those lessons would transfer to other datasets and/or models? Why or why not?\n",
        "\n",
        "A. \n",
        "\n",
        "Q. What was the most helpful feedback you received during your presentation? Why?\n",
        "\n",
        "A. We got no feedback\n",
        "\n",
        "Q. If you had two more weeks to work on this project, what would you do next? Why?\n",
        "\n",
        "A. Probably nothing"
      ]
    }
  ],
  "metadata": {
    "colab": {
      "provenance": [],
      "toc_visible": true
    },
    "kernelspec": {
      "display_name": "Python 3",
      "name": "python3"
    },
    "language_info": {
      "codemirror_mode": {
        "name": "ipython",
        "version": 3
      },
      "file_extension": ".py",
      "mimetype": "text/x-python",
      "name": "python",
      "nbconvert_exporter": "python",
      "pygments_lexer": "ipython3",
      "version": "3.11.4"
    }
  },
  "nbformat": 4,
  "nbformat_minor": 0
}
