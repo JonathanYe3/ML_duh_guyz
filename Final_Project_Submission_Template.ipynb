{
  "cells": [
    {
      "cell_type": "markdown",
      "metadata": {
        "id": "39GGICFzwDrj"
      },
      "source": [
        "# **Instructions**\n",
        "\n",
        "This document is a template, and you are not required to follow it exactly. However, the kinds of questions we ask here are the kinds of questions we want you to focus on. While you might have answered similar questions to these in your project presentations, we want you to go into a lot more detail in this write-up; you can refer to the Lab homeworks for ideas on how to present your data or results.\n",
        "\n",
        "You don't have to answer every question in this template, but you should answer roughly this many questions. Your answers to such questions should be paragraph-length, not just a bullet point. You likely still have questions of your own -- that's okay! We want you to convey what you've learned, how you've learned it, and demonstrate that the content from the course has influenced how you've thought about this project."
      ]
    },
    {
      "cell_type": "markdown",
      "metadata": {
        "id": "-9VDfC-ie19P"
      },
      "source": [
        "# Project Name\n",
        "Project mentor: the GOAT Edward Wang\n",
        "\n",
        "Nick Geissler <ngeissl2@jh.edu>, Annie Wang <awang105@jh.edu>, Jonathan Ye <jye41@jh.edu>, Evan Zhu <ezhu13@jh.edu>\n",
        "\n",
        "Link_to_git_repo - edward says making it public is sus"
      ]
    },
    {
      "cell_type": "markdown",
      "metadata": {
        "id": "uqwI3PT-hBJo"
      },
      "source": [
        "# Outline and Deliverables"
      ]
    },
    {
      "cell_type": "markdown",
      "metadata": {
        "id": "F7Af6y48e7HI"
      },
      "source": [
        "List the deliverables from your project proposal. For each uncompleted deliverable, please include a sentence or two on why you weren't able to complete it (e.g. \"decided to use an existing implementation instead\" or \"ran out of time\"). For each completed deliverable, indicate which section of this notebook covers what you did.\n",
        "\n",
        "If you spent substantial time on any aspects that weren't deliverables in your proposal, please list those under \"Additional Work\" and indicate where in the notebook you discuss them.\n",
        "\n",
        "### Uncompleted Deliverables\n",
        "1. \"Expect to complete #1: Spamicity evaluation\": This metric proved less important than others in our opinion (F1 score, overall accuracy, type 2 errors, etc.)\n",
        "2. \"Would like to complete #1: Further malevolent detection\": We believe this to be very intensive for marginal improvement. Our algorithm is quite accurate, and implementing some of these algorithms could've been an entire project in its own right.\n",
        "3. \"Would like to complete #3: Error analysis\": With single words and tokens as features, and no current features in our preprocessing to capture clusters of words or even word orderings, this would be extremely difficult to do. It would addtitionally likely result in AdaBoost being incompatible with the newly preprocessed data.\n",
        "4. \"Would like to complete #4: Removal of typos\": We concluded this would in fact be disadvantageous. Many spam and scam emails utilize typos to seem more \"believable.\"\n",
        "\n",
        "\n",
        "### Completed Deliverables\n",
        "1. \"Must complete #1: Implement AdaBoost\": We discuss our dataset pre-processing [in \"Dataset\" below](#scrollTo=zFq-_D0khnhh&line=10&uniqifier=1).\n",
        "2. \"Must complete #2: Evaluation of performance\": We discuss training our logistic regression baseline [in \"Baselines\" below](#scrollTo=oMyqHUa0jUw7&line=5&uniqifier=1).\n",
        "3. \"Must complet\n",
        " #3: Basic success benchmark\": We discuss our model's basic performance [in \"Results\" below](#results).\n",
        "4. \"Expect to complete #2: Custom loss function\": We discuss our custom loss function that penalizes type 2 errors according to the user's specifications [in \"Custom loss function\" below](#custom-loss-function). \n",
        "5. \"Expect to complete #3: Visualization\": We visualize and interpret our results [in \"Results\" below](#results).\n",
        "6. \"Expect to complete #4: Comparative evaluation\": We compare our model's results against those of SVM and random forest [in \"Results\" below](#results).\n",
        "7. \"Would like to complete #2: Personalized deployment data\": We sampled some proprietary emails to see if our model generalizes to real-world situtations in ##r we do this\n",
        "##idk man maybe we scrape angie emailonal Deliverables\n",
        "1. We decided to add a second baseline using the published model from this paper. We discuss this [in \"Baselines\" below](#scrollTo=oMyqHUa0jUw7&line=5&uniqifier=1).\n",
        "2. ..."
      ]
    },
    {
      "cell_type": "markdown",
      "metadata": {
        "id": "Eiq2aSauhSsS"
      },
      "source": [
        "# Preliminaries"
      ]
    },
    {
      "cell_type": "markdown",
      "metadata": {
        "id": "NtWkhiIPfOfK"
      },
      "source": [
        "## What problem were you trying to solve or understand?\n",
        "\n",
        "Q. What are the real-world implications of this data and task?\n",
        "\n",
        "A.\n",
        "\n",
        "How is this problem similar to others we’ve seen in lectures, breakouts, and homeworks?\n",
        "\n",
        "A. \n",
        "\n",
        "Q. What makes this problem unique?\n",
        "\n",
        "A. \n",
        "\n",
        "Q. WhScammers evolve and also no one uses adaboost here\n",
        "\n",
        "Also, AdaBoost is a at ethical implications does this problem have?\n",
        "\n",
        "A. What if the scammers get laid off from their cushy scamming cetner jobs"
      ]
    },
    {
      "cell_type": "markdown",
      "metadata": {
        "id": "zFq-_D0khnhh"
      },
      "source": [
        "## Dataset(s)\n",
        "\n",
        "Q. Describe the dataset(s) you used.\n",
        "\n",
        "A. Our dataset combines four datasets found on Kaggle. \n",
        "\n",
        "Q. How were they collected?\n",
        "\n",
        "A. \n",
        "\n",
        "Q. Why did you choose them?\n",
        "\n",
        "A. \n",
        "\n",
        "Q. How many examples in each?\n",
        "\n",
        "A. In total, we had 184000 labeled emails and 47994 features\n",
        "\n"
      ]
    },
    {
      "cell_type": "code",
      "execution_count": 21,
      "metadata": {},
      "outputs": [],
      "source": [
        "# Import guys\n",
        "import pandas as pd\n",
        "import numpy as np\n",
        "from scipy import sparse\n",
        "# from AdaBoostClassifier import AdaBoostClassifier\n",
        "#%run AdaBoostWeak.py\n",
        "from sklearn.model_selection import train_test_split\n",
        "import matplotlib.pyplot as plt\n",
        "from sklearn import metrics"
      ]
    },
    {
      "cell_type": "code",
      "execution_count": 11,
      "metadata": {
        "id": "2lOicoBYif7g"
      },
      "outputs": [
        {
          "name": "stdout",
          "output_type": "stream",
          "text": [
            "  Category                                            Message\n",
            "0      ham  Go until jurong point, crazy.. Available only ...\n",
            "1      ham                      Ok lar... Joking wif u oni...\n",
            "2     spam  Free entry in 2 a wkly comp to win FA Cup fina...\n"
          ]
        }
      ],
      "source": [
        "# Load your data and print 2-3 examples\n",
        "df1 = pd.read_csv(\"data/spam.csv\", usecols=[0,1])\n",
        "print(df1.iloc[0:3,:])\n"
      ]
    },
    {
      "cell_type": "markdown",
      "metadata": {
        "id": "XN1fYEfGidiD"
      },
      "source": [
        "## Pre-processing\n",
        "\n",
        "Please see our preprocessing2 jupyter notebook: {insert link}. \n",
        "\n",
        "### Questions\n",
        "\n",
        "Q. What features did you use or choose not to use? Why?\n",
        "\n",
        "A. \n",
        "\n",
        "Q. If you have categorical labels, were your datasets class-balanced?\n",
        "\n",
        "A. \n",
        "\n",
        "Q. How did you deal with missing data? What about outliers?\n",
        "\n",
        "A. \n",
        "\n",
        "Q. What approach(es) did you use to pre-process your data? Why?\n",
        "\n",
        "A. \n",
        "\n",
        "Q. Are your features continuous or categorical? How do you treat these features differently?\n",
        "\n",
        "A. "
      ]
    },
    {
      "cell_type": "code",
      "execution_count": 16,
      "metadata": {
        "id": "EEuKEzM5ipag"
      },
      "outputs": [
        {
          "name": "stdout",
          "output_type": "stream",
          "text": [
            "labels: \n",
            "  (2, 0)\t1\n",
            "  (5, 0)\t1\n",
            "  (8, 0)\t1\n",
            "  (9, 0)\t1\n",
            "  (11, 0)\t1\n",
            "  (12, 0)\t1\n",
            "  (15, 0)\t1\n",
            "  (19, 0)\t1\n",
            "  (34, 0)\t1\n",
            "  (42, 0)\t1\n",
            "  (54, 0)\t1\n",
            "  (56, 0)\t1\n",
            "  (65, 0)\t1\n",
            "  (67, 0)\t1\n",
            "  (68, 0)\t1\n",
            "  (93, 0)\t1\n",
            "  (95, 0)\t1\n",
            "  (114, 0)\t1\n",
            "  (117, 0)\t1\n",
            "  (120, 0)\t1\n",
            "  (121, 0)\t1\n",
            "  (123, 0)\t1\n",
            "  (134, 0)\t1\n",
            "  (135, 0)\t1\n",
            "  (139, 0)\t1\n",
            "  :\t:\n",
            "  (15952, 0)\t1\n",
            "  (15953, 0)\t1\n",
            "  (15954, 0)\t1\n",
            "  (15955, 0)\t1\n",
            "  (15956, 0)\t1\n",
            "  (15957, 0)\t1\n",
            "  (15958, 0)\t1\n",
            "  (15959, 0)\t1\n",
            "  (15960, 0)\t1\n",
            "  (15961, 0)\t1\n",
            "  (15962, 0)\t1\n",
            "  (15963, 0)\t1\n",
            "  (15964, 0)\t1\n",
            "  (15965, 0)\t1\n",
            "  (15966, 0)\t1\n",
            "  (15967, 0)\t1\n",
            "  (15968, 0)\t1\n",
            "  (15969, 0)\t1\n",
            "  (15970, 0)\t1\n",
            "  (15971, 0)\t1\n",
            "  (15972, 0)\t1\n",
            "  (15973, 0)\t1\n",
            "  (15974, 0)\t1\n",
            "  (15975, 0)\t1\n",
            "  (15976, 0)\t1\n"
          ]
        }
      ],
      "source": [
        "# For those same examples above, what do they look like after being pre-processed?\n",
        "# column names\n",
        "with open('data/column_names.txt', 'r') as f:\n",
        "    column_names = [line.strip() for line in f] # feature labels\n",
        "\n",
        "sparse_dat = sparse.load_npz(\"data/sparse_df.npz\")\n",
        "\n",
        "# Extract labels from the first column\n",
        "labels = sparse_dat[:, 0] # ground truth labels - 0 ham, 1 spam\n",
        "\n",
        "# Create a list of column indices to keep\n",
        "to_keep = list(set(range(sparse_dat.shape[1])) - set([0]))\n",
        "\n",
        "# Extract the design matrix\n",
        "X = sparse_dat[:, to_keep]\n",
        "\n",
        "print(f'labels: \\n{labels}')"
      ]
    },
    {
      "cell_type": "code",
      "execution_count": 13,
      "metadata": {
        "id": "1cDLEwhAx0gP"
      },
      "outputs": [],
      "source": [
        "# Visualize the distribution of your data before and after pre-processing.\n",
        "#   You may borrow from how we visualized data in the Lab homeworks.\n",
        "\n",
        "# Not really applicable to us imo - could do some wacky shit I suppose"
      ]
    },
    {
      "cell_type": "markdown",
      "metadata": {
        "id": "tASjmmtjiwvu"
      },
      "source": [
        "# Models and Evaluation"
      ]
    },
    {
      "cell_type": "markdown",
      "metadata": {
        "id": "LlrwR9E1hnQ3"
      },
      "source": [
        "## Experimental Setup\n",
        "\n",
        "### Evaluation metrics\n",
        "\n",
        "Q. How did you evaluate your methods? Why is that a reasonable evaluation metric for the task?\n",
        "\n",
        "A. F1, type 1 error, type 2 error, accuracy\n"
      ]
    },
    {
      "cell_type": "markdown",
      "metadata": {},
      "source": [
        "### Custom loss function\n",
        "\n",
        "Q. What did you use for your loss function to train your models? Did you try multiple loss functions? Why or why not?\n",
        "\n",
        "A. Our loss function is pasted below. -INSERT DETAILS- We did try a couple other loss functions, but they sucked. There was that one loss function where it was np.exp(-proportion or whatever)\n",
        "\n",
        "Furthermore, we implemented our own Adaboost algorithm to leverage this custom loss function. Link:  "
      ]
    },
    {
      "cell_type": "code",
      "execution_count": 14,
      "metadata": {
        "id": "qUNxC358jPDr"
      },
      "outputs": [],
      "source": [
        "# Code for loss functions, evaluation metrics or link to Git repo\n",
        "\n",
        "def compute_error(y, y_pred, w_i, type2penalty, pen_factor):\n",
        "    '''\n",
        "    Calculate the error rate of a weak classifier m. Arguments:\n",
        "    y: actual target value\n",
        "    y_pred: predicted value by weak classifier\n",
        "    w_i: individual weights for each observation\n",
        "\n",
        "    \n",
        "    Note that all arrays should be the same length. Convert sparse array to regular array before calling\n",
        "    '''\n",
        "    if type2penalty:\n",
        "        error = (sum(w_i * (t2_pred_err_vec(y, y_pred, pen_factor)).astype(float)))/sum(w_i)\n",
        "    else:\n",
        "        error = (sum(w_i * (np.not_equal(y, y_pred)).astype(int)))/sum(w_i)\n",
        "\n",
        "    return error\n",
        "def t2_pred_err_vec(y,y_pred, pen_factor):\n",
        "    pred_err_vec = ((y_pred==-1) & (y==1))* pen_factor\n",
        "    better_err_vec = ((y_pred==1)) & (y==-1)\n",
        "    pred_err_vec = pred_err_vec+better_err_vec\n",
        "    if np.isnan(pred_err_vec).any(): print(\"WAHHHHH NAN\")\n",
        "    return pred_err_vec\n"
      ]
    },
    {
      "cell_type": "markdown",
      "metadata": {},
      "source": [
        "### Train/Test split\n",
        "\n",
        "Q. How did you split your data into train and test sets? Why?\n",
        "\n",
        "A. We stratified by the y labels - so that we had similar proportion of spam in both train + test"
      ]
    },
    {
      "cell_type": "code",
      "execution_count": 17,
      "metadata": {},
      "outputs": [],
      "source": [
        "# Train test split\n",
        "\n",
        "# Use train_test_split.\n",
        "X_train, X_test, y_train, y_test = train_test_split(X, labels, test_size=0.2, shuffle=True, stratify=labels.toarray().ravel())\n",
        "\n",
        "y_train_flat = y_train.copy().toarray().ravel()\n",
        "#y_train_flat[y_train_flat == -1] = 0 See if you have to run this line if anything sus\n",
        "\n",
        "y_test_flat = y_test.copy().toarray().ravel()\n",
        "# y_test_flat[y_test_flat == -1] = 0 Same here\n"
      ]
    },
    {
      "cell_type": "markdown",
      "metadata": {
        "id": "oMyqHUa0jUw7"
      },
      "source": [
        "## Baselines\n",
        "\n",
        "Q. What baselines did you compare against? Why are these reasonable?\n",
        "\n",
        "A. Sklearn SVM and Random Forest with default parameters. WHY ARE REASONABLE\n",
        "\n",
        "Q. Did you look at related work to contextualize how others methods or baselines have performed on this dataset/task? If so, how did those methods do?\n",
        "\n",
        "A. Yes of course - they are very good"
      ]
    },
    {
      "cell_type": "code",
      "execution_count": 18,
      "metadata": {},
      "outputs": [],
      "source": [
        "# Helper function to calculate error types\n",
        "\n",
        "def errors(y, y_pred):\n",
        "        \"\"\"\n",
        "        Calculate the proportion of type 2 errors - when the true label is 1 - spam, and the predicted label is 0 - ham\n",
        "\n",
        "        Args:\n",
        "        y: true labels\n",
        "        y_pred: predicted labels\n",
        "        \"\"\"\n",
        "        n = y.shape[0]\n",
        "        y[y == -1] = 0\n",
        "        type2errors = ((y == 1) & (y_pred == 0)).sum().item()\n",
        "        type1errors = ((y == 0) & (y_pred == 1)).sum().item()\n",
        "        correct = (y_pred == y).sum().item()\n",
        "        #print(np.unique(y_pred), np.unique(y))\n",
        "        return type2errors, type1errors, correct"
      ]
    },
    {
      "cell_type": "code",
      "execution_count": 40,
      "metadata": {},
      "outputs": [],
      "source": [
        "# SVM\n",
        "\n",
        "from sklearn import svm\n",
        "svm_example = svm.SVC(probability = True)\n",
        "svm_example.fit(X_train, y_train_flat)\n"
      ]
    },
    {
      "cell_type": "code",
      "execution_count": 91,
      "metadata": {},
      "outputs": [],
      "source": [
        "# Train metrics\n",
        "predictions = svm_example.predict(X_train)\n",
        "type2, type1, correct = errors(y_train_flat, predictions)\n",
        "f1 = metrics.f1_score(y_true = y_train_flat, y_pred= predictions)\n",
        "\n",
        "svm_train_metrics = [\"svm\",type2, type1, correct/len(predictions), f1]\n",
        "\n",
        "# For ROC\n",
        "scores = svm_example.predict_proba(X_test)\n",
        "svm_fpr, svm_tpr, thresholds  = metrics.roc_curve(y_test_flat, scores[:,1])\n",
        "\n",
        "# type 2 error stuff TEST\n",
        "predictions = svm_example.predict(X_test)\n",
        "type2, type1, correct = errors(y_test_flat, predictions)\n",
        "f1 = metrics.f1_score(y_true = y_test_flat, y_pred= predictions)\n",
        "\n",
        "svm_test_metrics = [\"svm\", type2, type1, correct/len(predictions), f1]"
      ]
    },
    {
      "cell_type": "code",
      "execution_count": 41,
      "metadata": {},
      "outputs": [],
      "source": [
        "# Random Forest\n",
        "\n",
        "from sklearn.ensemble import RandomForestClassifier\n",
        "rf = RandomForestClassifier()\n",
        "rf.fit(X_train, y_train_flat)"
      ]
    },
    {
      "cell_type": "code",
      "execution_count": 90,
      "metadata": {},
      "outputs": [],
      "source": [
        "# Train metrics\n",
        "predictions = rf.predict(X_train)\n",
        "type2, type1, correct = errors(y_train_flat, predictions)\n",
        "f1 = metrics.f1_score(y_true = y_train_flat, y_pred= predictions)\n",
        "\n",
        "rf_train_metrics = [\"rf\",type2, type1, correct/len(predictions), f1]\n",
        "\n",
        "# For ROC\n",
        "scores = rf.predict_proba(X_test)\n",
        "rf_fpr, rf_tpr, thresholds = metrics.roc_curve(y_test_flat, scores[:,1])\n",
        "\n",
        "# type 2 error stuff TEST\n",
        "predictions = rf.predict(X_test)\n",
        "type2, type1, correct = errors(y_test_flat, predictions)\n",
        "f1 = metrics.f1_score(y_true = y_test_flat, y_pred= predictions)\n",
        "\n",
        "rf_test_metrics = [\"rf\", type2, type1, correct/len(predictions), f1]"
      ]
    },
    {
      "cell_type": "markdown",
      "metadata": {
        "id": "PqB48IF9kMBf"
      },
      "source": [
        "## Methods\n",
        "\n",
        "Q. What methods did you choose? Why did you choose them?\n",
        "\n",
        "A. \n",
        "\n",
        "Q. How did you train these methods, and how did you evaluate them? Why?\n",
        "\n",
        "A. \n",
        "\n",
        "Q. Which methods were easy/difficult to implement and train? Why?\n",
        "\n",
        "A. Implementation was decently hard. Big obstacle was getting the weak learners to be unique. Maybe also talk about boosting RF? Link github\n",
        "\n",
        "\n",
        "Q. For each method, what hyperparameters did you evaluate? How sensitive was your model's performance to different hyperparameter settings?\n",
        "\n",
        "A. First, we ran a grid search to find the best set of parameters for our goal - to reduce type 2 error (actual spam email classified as ham) while not sacrificing too much accuracy. Details are in the grid search section"
      ]
    },
    {
      "cell_type": "markdown",
      "metadata": {},
      "source": [
        "## Grid Search\n",
        "\n",
        "EVAN WAHHHH - add details (explain validation set, cross fold, yada yada) and most importantly paste that figure in here"
      ]
    },
    {
      "cell_type": "code",
      "execution_count": null,
      "metadata": {},
      "outputs": [],
      "source": [
        "# do something here"
      ]
    },
    {
      "cell_type": "markdown",
      "metadata": {},
      "source": [
        "## Training the model\n",
        "\n",
        "Using our choise of parameters from grid search:\n",
        "\n",
        "penalty factor = 2\n",
        "\n",
        "decision tree depth = 5 - for the sake of speed\n",
        "\n",
        "number of boosting rounds = 200 - for the sake of speed\n"
      ]
    },
    {
      "cell_type": "code",
      "execution_count": 79,
      "metadata": {
        "id": "ma4JoDzar6xU"
      },
      "outputs": [],
      "source": [
        "# Code for training models, or link to your Git repository\n",
        "%run AdaBoostWeakClassic.py\n",
        "\n",
        "aboost_final = AdaBoostWeakClassic(rounds = 200, type2penalty=True, pen_factor = 2.0, maxDTdepth=5)\n",
        "aboost_final.fit(X_train, y_train_flat)"
      ]
    },
    {
      "cell_type": "code",
      "execution_count": 84,
      "metadata": {},
      "outputs": [
        {
          "name": "stdout",
          "output_type": "stream",
          "text": [
            "Final Model (without penalty) Training set Accuracy:  0.9989672266593225\n",
            "unique predictions - should be 0 and 1: [0 1]\n",
            "type 2 errors: 3 \n",
            " type 1 errors: 12\n",
            "F1 score: 0.9984843892088512\n"
          ]
        }
      ],
      "source": [
        "# Training metrics\n",
        "predictions = aboost_final.predict(X_train)\n",
        "type2, type1, correct = errors(y_train.toarray().ravel(), predictions)\n",
        "print(\"Final Model (without penalty) Training set Accuracy: \", correct/len(predictions))\n",
        "print(f'unique predictions - should be 0 and 1: {np.unique(predictions)}')\n",
        "print(f'type 2 errors: {type2} \\n type 1 errors: {type1}')\n",
        "# y_train_flat = y_train.copy().toarray().ravel()\n",
        "# y_train_flat[y_train_flat == -1] = 0\n",
        "\n",
        "f1 = metrics.f1_score(y_true = y_train_flat, y_pred= predictions)\n",
        "print(f'F1 score: {f1}')\n",
        "\n",
        "# aboost_train_metrics = [type2, type1, correct/len(predictions), f1]"
      ]
    },
    {
      "cell_type": "code",
      "execution_count": 85,
      "metadata": {},
      "outputs": [],
      "source": [
        "aboost_train_metrics = [\"adaboost\",type2, type1, correct/len(predictions), f1]"
      ]
    },
    {
      "cell_type": "code",
      "execution_count": 86,
      "metadata": {},
      "outputs": [],
      "source": [
        "# Test Metrics\n",
        "# For ROC\n",
        "probits = aboost_final.predict_probs(X_test)\n",
        "ada_fin_fpr, ada_fin_tpr, thresholds  = metrics.roc_curve(y_test_flat, probits)\n",
        "\n",
        "predictions = aboost_final.predict(X_test)\n",
        "type2, type1, correct = errors(y_test_flat, predictions)\n",
        "f1 = metrics.f1_score(y_true = y_test_flat, y_pred= predictions)\n",
        "\n",
        "# aboost_test_metrics = [type2, type1, correct/len(predictions), f1]"
      ]
    },
    {
      "cell_type": "code",
      "execution_count": 87,
      "metadata": {},
      "outputs": [],
      "source": [
        "aboost_test_metrics = [\"adaboost\",type2, type1, correct/len(predictions), f1]"
      ]
    },
    {
      "cell_type": "code",
      "execution_count": 31,
      "metadata": {
        "id": "RO_kP1fmkWWk"
      },
      "outputs": [
        {
          "data": {
            "image/png": "[encoded data removed]",
            "text/plain": [
              "<Figure size 640x480 with 1 Axes>"
            ]
          },
          "metadata": {},
          "output_type": "display_data"
        },
        {
          "data": {
            "image/png": "[encoded data removed]",
            "text/plain": [
              "<Figure size 640x480 with 1 Axes>"
            ]
          },
          "metadata": {},
          "output_type": "display_data"
        }
      ],
      "source": [
        "# Show plots of how these models performed during training. FUCK\n",
        "#  For example, plot train loss and train accuracy (or other evaluation metric) on the y-axis,\n",
        "#  with number of iterations or number of examples on the x-axis.\n",
        "plt.plot(range(2, 201, 10), aboost_final.accuracies)\n",
        "plt.xlabel(\"Boosting rounds\")\n",
        "plt.ylabel(\"Accuracy\")\n",
        "plt.title(\"Boosting rounds vs. Accuracy\")\n",
        "plt.show()\n",
        "plt.plot(range(2, 201, 10), aboost_final.type2errors)\n",
        "plt.xlabel(\"Boosting rounds\")\n",
        "plt.ylabel(\"Number of type 2 errors\")\n",
        "plt.title(\"Boosting rounds vs. Type 2 Errors\")\n",
        "plt.show()"
      ]
    },
    {
      "cell_type": "markdown",
      "metadata": {
        "id": "_Zdp4_H-kx8H"
      },
      "source": [
        "## Results\n",
        "\n",
        "Show tables comparing your methods to the baselines.\n",
        "\n",
        "Q. What about these results surprised you? Why?\n",
        "\n",
        "A. \n",
        "\n",
        "Q. Did your models over- or under-fit? How can you tell? What did you do to address these issues?\n",
        "\n",
        "A. \n",
        "\n",
        "Q. What does the evaluation of your trained models tell you about your data? How do you expect these models might behave differently on different data?  \n",
        "\n",
        "A. "
      ]
    },
    {
      "cell_type": "code",
      "execution_count": null,
      "metadata": {
        "id": "bS2sjfbglG_V"
      },
      "outputs": [],
      "source": [
        "# Show plots or visualizations of your evaluation metric(s) on the train and test sets.\n",
        "#   What do these plots show about over- or under-fitting?\n",
        "#   You may borrow from how we visualized results in the Lab homeworks.\n",
        "#   Are there aspects of your results that are difficult to visualize? Why?"
      ]
    },
    {
      "cell_type": "markdown",
      "metadata": {},
      "source": [
        "### ROC Curve Comparison\n"
      ]
    },
    {
      "cell_type": "code",
      "execution_count": 93,
      "metadata": {},
      "outputs": [
        {
          "data": {
            "text/plain": [
              "<matplotlib.legend.Legend at 0x1f9a45f04f0>"
            ]
          },
          "execution_count": 93,
          "metadata": {},
          "output_type": "execute_result"
        },
        {
          "data": {
            "image/png": "[encoded data removed]",
            "text/plain": [
              "<Figure size 640x480 with 1 Axes>"
            ]
          },
          "metadata": {},
          "output_type": "display_data"
        }
      ],
      "source": [
        "plt.plot(svm_fpr, svm_tpr, marker='.', label='Default SVM')\n",
        "plt.plot(rf_fpr, rf_tpr, marker='.', label='Default Random Forest')\n",
        "plt.plot(ada_fin_fpr, ada_fin_tpr, marker='.', label='Custom Adaboost')\n",
        "\n",
        "\n",
        "plt.title(\"ROC comparison\")\n",
        "plt.legend()"
      ]
    },
    {
      "cell_type": "markdown",
      "metadata": {},
      "source": [
        "### Table"
      ]
    },
    {
      "cell_type": "code",
      "execution_count": 92,
      "metadata": {},
      "outputs": [
        {
          "name": "stdout",
          "output_type": "stream",
          "text": [
            "+--------------+--------+--------+--------------------+--------------------+\n",
            "| train method | type 2 | type 1 |      accuracy      |         F1         |\n",
            "+--------------+--------+--------+--------------------+--------------------+\n",
            "|     svm      |  547   |   65   | 0.957862847700358  | 0.934935147778014  |\n",
            "|      rf      |   1    |   1    | 0.9998622968879096 | 0.9997977346278317 |\n",
            "|   \u001b[1madaboost\u001b[0m   |   \u001b[1m3\u001b[0m    |   \u001b[1m12\u001b[0m   | \u001b[1m0.9989672266593225\u001b[0m | \u001b[1m0.9984843892088512\u001b[0m |\n",
            "+--------------+--------+--------+--------------------+--------------------+\n",
            "+-------------+--------+--------+--------------------+--------------------+\n",
            "| test method | type 2 | type 1 |      accuracy      |         F1         |\n",
            "+-------------+--------+--------+--------------------+--------------------+\n",
            "|     svm     |  206   |   22   | 0.9372246696035242 | 0.9003496503496503 |\n",
            "|      rf     |   64   |   24   | 0.9757709251101322 | 0.9638157894736842 |\n",
            "|   \u001b[1madaboost\u001b[0m  |   \u001b[1m44\u001b[0m   |   \u001b[1m62\u001b[0m   | \u001b[1m0.9708149779735683\u001b[0m | \u001b[1m0.957429718875502\u001b[0m  |\n",
            "+-------------+--------+--------+--------------------+--------------------+\n"
          ]
        }
      ],
      "source": [
        "from prettytable import PrettyTable\n",
        "\n",
        "train_table = PrettyTable([\"train method\",\"type 2\", \"type 1\", \"accuracy\", \"F1\"])\n",
        "train_table.add_row(svm_train_metrics)\n",
        "train_table.add_row(rf_train_metrics)\n",
        "train_table.add_row(aboost_train_metrics)\n",
        "train_table._rows[-1] = [f\"\\033[1m{cell}\\033[0m\" for cell in train_table._rows[-1]]\n",
        "print(train_table)\n",
        "\n",
        "test_table = PrettyTable([\"test method\",\"type 2\", \"type 1\", \"accuracy\", \"F1\"])\n",
        "test_table.add_row(svm_test_metrics)\n",
        "test_table.add_row(rf_test_metrics)\n",
        "test_table.add_row(aboost_test_metrics)\n",
        "test_table._rows[-1] = [f\"\\033[1m{cell}\\033[0m\" for cell in test_table._rows[-1]]\n",
        "print(test_table)"
      ]
    },
    {
      "cell_type": "markdown",
      "metadata": {
        "id": "59EbS1GilSQ_"
      },
      "source": [
        "# Discussion"
      ]
    },
    {
      "cell_type": "markdown",
      "metadata": {
        "id": "ugJXhZKNlUT4"
      },
      "source": [
        "## What you've learned\n",
        "\n",
        "*Note: you don't have to answer all of these, and you can answer other questions if you'd like. We just want you to demonstrate what you've learned from the project.*\n",
        "\n",
        "Q. What concepts from lecture/breakout were most relevant to your project? How so?\n",
        "\n",
        "A. \n",
        "\n",
        "Q. What aspects of your project did you find most surprising?\n",
        "\n",
        "A. \n",
        "\n",
        "Q. What lessons did you take from this project that you want to remember for the next ML project you work on? Do you think those lessons would transfer to other datasets and/or models? Why or why not?\n",
        "\n",
        "A. \n",
        "\n",
        "Q. What was the most helpful feedback you received during your presentation? Why?\n",
        "\n",
        "A. We got no feedback\n",
        "\n",
        "Q. If you had two more weeks to work on this project, what would you do next? Why?\n",
        "\n",
        "A. Probably nothing"
      ]
    }
  ],
  "metadata": {
    "colab": {
      "provenance": [],
      "toc_visible": true
    },
    "kernelspec": {
      "display_name": "Python 3",
      "name": "python3"
    },
    "language_info": {
      "codemirror_mode": {
        "name": "ipython",
        "version": 3
      },
      "file_extension": ".py",
      "mimetype": "text/x-python",
      "name": "python",
      "nbconvert_exporter": "python",
      "pygments_lexer": "ipython3",
      "version": "3.10.4"
    }
  },
  "nbformat": 4,
  "nbformat_minor": 0
}
